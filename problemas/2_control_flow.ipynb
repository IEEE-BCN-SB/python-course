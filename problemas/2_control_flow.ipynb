{
 "cells": [
  {
   "cell_type": "markdown",
   "metadata": {},
   "source": [
    "### Iterando sobre strings\n",
    "Partiendo del string `Aniram al ne etatsila` haz un programa que lo imprima por pantalla en orden inverso (a nivel de carácter)."
   ]
  },
  {
   "cell_type": "code",
   "execution_count": 1,
   "metadata": {},
   "outputs": [
    {
     "name": "stdout",
     "output_type": "stream",
     "text": [
      "alistate en la marinA\n",
      "alistate en la marinA\n",
      "alistate en la marinA\n"
     ]
    }
   ],
   "source": [
    "s = \"Aniram al ne etatsila\"\n",
    "r = \"\"\n",
    "for i in range(len(s)-1, -1, -1):\n",
    "    r += s[i]\n",
    "print(r)\n",
    "\n",
    "s = \"Aniram al ne etatsila\"\n",
    "for i in range(len(s)-1, -1, -1):\n",
    "    print(s[i], end=\"\")\n",
    "print()\n",
    "\n",
    "s = \"Aniram al ne etatsila\"\n",
    "print(s[::-1])"
   ]
  },
  {
   "cell_type": "markdown",
   "metadata": {},
   "source": [
    "### Iterando sobre listas\n",
    "Tenemos una lista con las distribuciones de Linux más utiulizadas en 2016 y queremos imprimirlas tal que aparezca una por linea con el número que ocupa en la lista:\n",
    "```\n",
    "1. Linux Mint\n",
    "2. Debian\n",
    "...\n",
    "```\n",
    "\n",
    "Haz un código que lo implemente partiendo de:\n",
    "```py\n",
    "distros = [\"Linux Mint\", \"Debian\", \"Ubuntu\", \"openSUSE\", \"Manjaro\", \"Fedora\", \"Zorin\", \"Elementary\", \"CentOS\", \"Arch Linux\"]\n",
    "```"
   ]
  },
  {
   "cell_type": "code",
   "execution_count": 27,
   "metadata": {},
   "outputs": [
    {
     "name": "stdout",
     "output_type": "stream",
     "text": [
      "1. Linux Mint\n",
      "2. Debian\n",
      "3. Ubuntu\n",
      "4. openSUSE\n",
      "5. Manjaro\n",
      "6. Fedora\n",
      "7. Zorin\n",
      "8. Elementary\n",
      "9. CentOS\n",
      "10. Arch Linux\n"
     ]
    }
   ],
   "source": [
    "distros = [\"Linux Mint\", \"Debian\", \"Ubuntu\", \"openSUSE\", \"Manjaro\", \"Fedora\", \"Zorin\", \"Elementary\", \"CentOS\", \"Arch Linux\"]\n",
    "\n",
    "i = 1\n",
    "for distro in distros:\n",
    "    print(str(i) + \". \" + distro)\n",
    "    i += 1"
   ]
  },
  {
   "cell_type": "code",
   "execution_count": null,
   "metadata": {},
   "outputs": [],
   "source": []
  }
 ],
 "metadata": {
  "kernelspec": {
   "display_name": "Python 3",
   "language": "python",
   "name": "python3"
  },
  "language_info": {
   "codemirror_mode": {
    "name": "ipython",
    "version": 3
   },
   "file_extension": ".py",
   "mimetype": "text/x-python",
   "name": "python",
   "nbconvert_exporter": "python",
   "pygments_lexer": "ipython3",
   "version": "3.5.2"
  },
  "toc": {
   "nav_menu": {},
   "number_sections": true,
   "sideBar": true,
   "skip_h1_title": false,
   "title_cell": "Table of Contents",
   "title_sidebar": "Contents",
   "toc_cell": false,
   "toc_position": {},
   "toc_section_display": "block",
   "toc_window_display": false
  },
  "varInspector": {
   "cols": {
    "lenName": 16,
    "lenType": 16,
    "lenVar": 40
   },
   "kernels_config": {
    "python": {
     "delete_cmd_postfix": "",
     "delete_cmd_prefix": "del ",
     "library": "var_list.py",
     "varRefreshCmd": "print(var_dic_list())"
    },
    "r": {
     "delete_cmd_postfix": ") ",
     "delete_cmd_prefix": "rm(",
     "library": "var_list.r",
     "varRefreshCmd": "cat(var_dic_list()) "
    }
   },
   "types_to_exclude": [
    "module",
    "function",
    "builtin_function_or_method",
    "instance",
    "_Feature"
   ],
   "window_display": false
  }
 },
 "nbformat": 4,
 "nbformat_minor": 2
}
