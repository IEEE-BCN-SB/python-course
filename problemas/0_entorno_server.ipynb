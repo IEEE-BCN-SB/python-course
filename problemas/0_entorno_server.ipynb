{
 "cells": [
  {
   "cell_type": "markdown",
   "metadata": {},
   "source": [
    "# Entorno\n",
    "\n",
    "En esta practica aprenderemos como configurar nuesto entorno para poder trabajar con Python."
   ]
  },
  {
   "cell_type": "markdown",
   "metadata": {},
   "source": [
    "# Instalación\n",
    "Para trabajar en casa habrá que instalar Python. El entorno que os ofrecemos ya lo tiene configurado.\n",
    "## Linux\n",
    "Suele venir por defecto en la mayoría de distribuciones.\n",
    "Si no es nuestro caso podemos instalarlo con nuestro gestor de paquetes: `sudo apt install python3`\n",
    "## Windows\n",
    "Tendremos que descargar e instalar el ejecutale que podemos obtener de la web de python: [https://www.python.org/downloads/windows/](https://www.python.org/downloads/windows/)\n",
    "## OS X\n",
    "Utilizando brew simplemente tenemos que hacer: `brew install python3`"
   ]
  },
  {
   "cell_type": "markdown",
   "metadata": {},
   "source": [
    "# Ejecución de programas\n",
    "\n",
    "Para empezar creemos un programa de prueba en un fichero con nombre _test.py_:\n",
    "\n",
    ">```python\n",
    "name = input(\"Enter your name: \")\n",
    "print(\"Hello \" + name)\n",
    "```\n",
    "\n",
    "Para ejecutar este programa simplemente tendremos que hacer:\n",
    "`python3 test.py`\n",
    "\n",
    "Fijaros que si modificamos el programa no hay que hacer ningún paso adicional como compilar, simplemente lo ejecutamos.\n",
    "\n",
    "Para facilitarnos más la vida, en entornos Unix podemos hacer uso del _Shebang_ añadiendo `#!/usr/bin/env python` (o la dirección del intérprete que tengamos) en la primera linea del código. Con esto nos podríamos limitar a hacer `./test.py`\n",
    "\n",
    "En windows podríamos associar `.py` a nuestro interprete para poder ejecutarlo directamente.\n"
   ]
  },
  {
   "cell_type": "markdown",
   "metadata": {},
   "source": [
    "# Ejecución interactiva\n",
    "\n",
    "Dado que no hace falta compilar un programa entero, sino que se va interpretando linea a linea, python nos permite tener un terminal dónde introducir código arbitrario. Esta característica resulta de vital importancia en el desarrollo, proporcionando una manera sencilla de hacer pruebas y debugar segmentos de código.\n",
    "\n",
    "Para abrir la consola de python simplemente ejecutamos el intérprete, `python3`. Podéis probar a copiar el programa anterior linea a linea para ver que funciona.\n",
    "\n",
    "Pese a que esta consola funciona es muy básica, careciendo de características importantes. Es por eso que recomendamos el uso de la consola IPython. Para ejecutarla simplemente añadid una _i_ delante del nombre de vuestro interprete: `ipython3`."
   ]
  },
  {
   "cell_type": "markdown",
   "metadata": {},
   "source": [
    "# Interpretes y módulos\n",
    "\n",
    "Para ejecutar nuestro código hemos utilizado el intérprete (programa) `python`, sin embargo si miramos los programas instalados en nuestro entorno vemos que existen otros con nombres similares:\n",
    "`python`, `python2`, `python2.7`, `python3` y `python3.5`.\n",
    "\n",
    "En realidad en nuestra maquina solo tenemos instalados dos intérpretes, `python2.7` y `python3.5`, siendo los otros aliases que pueden ser utilizados por scripts. En nuestro caso los tres primeros hacen referencia a python2 y los dos últimos a python3. \n",
    "\n",
    "Este sistema nos permite tener múltiples interpretes para diversos programas, aunque añade algo de complejidad.\n",
    "\n",
    "\n"
   ]
  },
  {
   "cell_type": "markdown",
   "metadata": {},
   "source": [
    "# Virtualenv\n",
    "\n",
    "Esta herramienta nos permite crear un entorno de python en una carpeta arbitraria. Este entorno contendrá el intérprete, los módulos y bibliotecas, y otras herramientas como pip. \n",
    "\n",
    "Para crear un entorno en el directorio actual haremos: `virtualenv -p python3 nombre_entorno`.\n",
    "\n",
    "Una vez creado tenemos que activarlo para poder utilizarlo, para hacerlo (des de el directorio en que estábamos) haremos: `source ./envname/bin/activate`. Veremos que el entorno esta activado porque nos aparecerá su nombre entre paréntesis antes del nombre de usuario.\n",
    "\n",
    "Con el entorno activado no tenemos que preocuparnos de conflicto de dependencias y puesto que no hay ambigüedad posible utilizaremos `python` para ejecutar programas.\n",
    "\n",
    "Para desactivar el entorno haremos `deactivate`."
   ]
  },
  {
   "cell_type": "markdown",
   "metadata": {},
   "source": [
    "# TODO\n",
    "\n",
    "1. Cread la que será vuestra carpeta en el servidor (`mkdir el_nombre`)\n",
    "2. Entrad en la carpeta y clonad el directorio con el material (`git clone https://github.com/IEEE-BCN-SB/python-course .`)\n",
    "3. Cread un enviroment y activarlo\n",
    "4. Probad de crear un programa y ejecutarlo\n",
    "5. Instalad ipython: `pip install ipython`\n",
    "5. Probad a copiar el programa linea a linea en el intérprete `ipython`\n",
    "6. Desactivar el enviroment\n"
   ]
  },
  {
   "cell_type": "code",
   "execution_count": null,
   "metadata": {},
   "outputs": [],
   "source": []
  }
 ],
 "metadata": {
  "kernelspec": {
   "display_name": "Python 3",
   "language": "python",
   "name": "python3"
  },
  "language_info": {
   "codemirror_mode": {
    "name": "ipython",
    "version": 3
   },
   "file_extension": ".py",
   "mimetype": "text/x-python",
   "name": "python",
   "nbconvert_exporter": "python",
   "pygments_lexer": "ipython3",
   "version": "3.5.2"
  },
  "toc": {
   "nav_menu": {},
   "number_sections": true,
   "sideBar": true,
   "skip_h1_title": false,
   "title_cell": "Table of Contents",
   "title_sidebar": "Contents",
   "toc_cell": false,
   "toc_position": {},
   "toc_section_display": "block",
   "toc_window_display": false
  },
  "varInspector": {
   "cols": {
    "lenName": 16,
    "lenType": 16,
    "lenVar": 40
   },
   "kernels_config": {
    "python": {
     "delete_cmd_postfix": "",
     "delete_cmd_prefix": "del ",
     "library": "var_list.py",
     "varRefreshCmd": "print(var_dic_list())"
    },
    "r": {
     "delete_cmd_postfix": ") ",
     "delete_cmd_prefix": "rm(",
     "library": "var_list.r",
     "varRefreshCmd": "cat(var_dic_list()) "
    }
   },
   "types_to_exclude": [
    "module",
    "function",
    "builtin_function_or_method",
    "instance",
    "_Feature"
   ],
   "window_display": false
  }
 },
 "nbformat": 4,
 "nbformat_minor": 2
}
