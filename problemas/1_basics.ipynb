{
 "cells": [
  {
   "cell_type": "markdown",
   "metadata": {},
   "source": [
    "# Ejercicios (muy) básicos"
   ]
  },
  {
   "cell_type": "markdown",
   "metadata": {
    "solution2": "hidden",
    "solution2_first": true
   },
   "source": [
    "### Notebook\n",
    "La pelicula \"Emoji\" fue un fracaso y despidieron a los personajes. Vemos a darles otra oportunidad, imprímelos por pantalla: \"🐧🐍😁😅😜😱🐍🐧\""
   ]
  },
  {
   "cell_type": "code",
   "execution_count": 19,
   "metadata": {
    "solution2": "hidden"
   },
   "outputs": [
    {
     "name": "stdout",
     "output_type": "stream",
     "text": [
      "🐧🐍😁😅😜😱🐍🐧\n"
     ]
    }
   ],
   "source": [
    "print(\"🐧🐍😁😅😜😱🐍🐧\")"
   ]
  },
  {
   "cell_type": "markdown",
   "metadata": {
    "solution2": "hidden",
    "solution2_first": true
   },
   "source": [
    "### Literales y print\n",
    "Imprime por pantalla el literal `I'm a \"teapot\\n\"` utilizando __24__ caracteres o menos."
   ]
  },
  {
   "cell_type": "code",
   "execution_count": 11,
   "metadata": {
    "solution2": "hidden"
   },
   "outputs": [
    {
     "name": "stdout",
     "output_type": "stream",
     "text": [
      "I'm a \"teapot\n"
     ]
    }
   ],
   "source": [
    "print('I\\'m a \"teapot\"')"
   ]
  },
  {
   "cell_type": "markdown",
   "metadata": {
    "solution2": "hidden",
    "solution2_first": true
   },
   "source": [
    "### Números\n",
    "Obtén el resultado de esta operación utilizando Python (-;\n",
    "<img src=\"img/formula1.png\", width=333 >"
   ]
  },
  {
   "cell_type": "code",
   "execution_count": 12,
   "metadata": {
    "solution2": "hidden"
   },
   "outputs": [
    {
     "data": {
      "text/plain": [
       "128.0"
      ]
     },
     "execution_count": 12,
     "metadata": {},
     "output_type": "execute_result"
    }
   ],
   "source": [
    "3 + 5**((-3)**2 / (11//3))"
   ]
  },
  {
   "cell_type": "markdown",
   "metadata": {
    "solution2": "hidden",
    "solution2_first": true
   },
   "source": [
    "### Indices y segmentos\n",
    "Un miembro de WindowsUPC ha desordenado el literal \"Python\".\n",
    "\n",
    "Si partimos de la definición `py = \"onhPyt\"`, pon el contenido adecuado en los `[]` para que el texto esté ordenado:\n",
    "\n",
    "`py = py[] + py[] + py[]`"
   ]
  },
  {
   "cell_type": "code",
   "execution_count": 18,
   "metadata": {
    "solution2": "hidden"
   },
   "outputs": [
    {
     "name": "stdout",
     "output_type": "stream",
     "text": [
      "Python\n"
     ]
    }
   ],
   "source": [
    "py = \"onhPyt\"\n",
    "py = py[3:] + py[2] + py[:2]\n",
    "print(py)"
   ]
  },
  {
   "cell_type": "markdown",
   "metadata": {
    "solution2": "shown",
    "solution2_first": true
   },
   "source": [
    "### Operadores lógicos\n",
    "\n",
    "Define tres variables `a`, `b` y `c` y asignales un valor booleano. A partir de estas variables imprime por pantalla el resultado de este circuito:\n",
    "\n",
    "<img src=\"img/bool.gif\", width=600 >\n",
    "\n",
    "Si no conocéis los simbolos el triangulo corresponde a `not`, la figura con el lado izquierdo recto a `and` y el curvado a `or`.\n",
    "\n",
    "Una vez acabado intenta cambiar el valor de las variables para que cambie el resultado."
   ]
  },
  {
   "cell_type": "code",
   "execution_count": 28,
   "metadata": {
    "solution2": "shown"
   },
   "outputs": [
    {
     "name": "stdout",
     "output_type": "stream",
     "text": [
      "True\n"
     ]
    }
   ],
   "source": [
    "a, b, c = True, False, True\n",
    "q = (a and b and c) or (a and (not b or not c))\n",
    "print(s)"
   ]
  },
  {
   "cell_type": "markdown",
   "metadata": {},
   "source": [
    "### Primera función\n",
    "\n",
    "Tenemos una función que recibe dos strings `a` y `b`\n",
    "\n",
    "Haz que la función retorne un string con `a` y `b` separados con un espació excepto que los primeros dos caracteres de cada string estén intercambiados.\n",
    "\n",
    "Por ejemplo: \"dog\", \"dinner\" ->; \"dig donner\"\n",
    "\n",
    "``` py\n",
    "def mix_up(a, b):\n",
    "    # +++your code here+++\n",
    "    return valor\n",
    "\n",
    "print(mix_up(\"dog\", \"dinner\"))\n",
    "```"
   ]
  },
  {
   "cell_type": "code",
   "execution_count": 4,
   "metadata": {},
   "outputs": [
    {
     "name": "stdout",
     "output_type": "stream",
     "text": [
      "dig donner\n"
     ]
    }
   ],
   "source": [
    "def mix_up(a, b):\n",
    "    return b[:2] + a[2:] + \" \" + a[:2] + b[2:]\n",
    "    \n",
    "print(mix_up(\"dog\", \"dinner\"))"
   ]
  },
  {
   "cell_type": "code",
   "execution_count": null,
   "metadata": {},
   "outputs": [],
   "source": []
  }
 ],
 "metadata": {
  "kernelspec": {
   "display_name": "Python 3",
   "language": "python",
   "name": "python3"
  },
  "language_info": {
   "codemirror_mode": {
    "name": "ipython",
    "version": 3
   },
   "file_extension": ".py",
   "mimetype": "text/x-python",
   "name": "python",
   "nbconvert_exporter": "python",
   "pygments_lexer": "ipython3",
   "version": "3.5.2"
  },
  "toc": {
   "nav_menu": {},
   "number_sections": true,
   "sideBar": true,
   "skip_h1_title": false,
   "toc_cell": false,
   "toc_position": {},
   "toc_section_display": "block",
   "toc_window_display": false
  },
  "varInspector": {
   "cols": {
    "lenName": 16,
    "lenType": 16,
    "lenVar": 40
   },
   "kernels_config": {
    "python": {
     "delete_cmd_postfix": "",
     "delete_cmd_prefix": "del ",
     "library": "var_list.py",
     "varRefreshCmd": "print(var_dic_list())"
    },
    "r": {
     "delete_cmd_postfix": ") ",
     "delete_cmd_prefix": "rm(",
     "library": "var_list.r",
     "varRefreshCmd": "cat(var_dic_list()) "
    }
   },
   "types_to_exclude": [
    "module",
    "function",
    "builtin_function_or_method",
    "instance",
    "_Feature"
   ],
   "window_display": false
  }
 },
 "nbformat": 4,
 "nbformat_minor": 2
}
