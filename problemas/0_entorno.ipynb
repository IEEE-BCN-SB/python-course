{
 "cells": [
  {
   "cell_type": "markdown",
   "metadata": {},
   "source": [
    "# Entorno\n",
    "\n",
    "En esta practica aprenderemos como configurar nuesto entorno parapoder trabajar con Python."
   ]
  },
  {
   "cell_type": "markdown",
   "metadata": {},
   "source": [
    "# Instalación\n",
    "Para trabajar en casa habrá que instalar Python. El entorno que os ofrecemos ya lo tiene configurado.\n",
    "## Linux\n",
    "Suele venir por defecto en la mayoría de distribuciones.\n",
    "Si no es nuestro caso podemos instalarlo con nuestro gestor de paquetes: `sudo apt install python3`\n",
    "## Windows\n",
    "Tendremos que descargar e instalar el ejecutable que podemos obtener de la web de python: [https://www.python.org/downloads/windows/](https://www.python.org/downloads/windows/)\n",
    "## OS X\n",
    "Utilizando brew simplemente tenemos que hacer: `brew install python3`"
   ]
  },
  {
   "cell_type": "markdown",
   "metadata": {},
   "source": [
    "# Ejecución de programas\n",
    "\n",
    "Para empezar creemos un programa de prueva en un fichero con nombre _test.py_:\n",
    "\n",
    "```python\n",
    "name = input(\"Enter your name: \")\n",
    "print(\"Hello \" + name)\n",
    "```\n",
    "\n",
    "Para ejecutar este programa simplemente tendremos que hacer:\n",
    "`python3 test.py`\n",
    "\n",
    "Fijaros que si modificamos el programa no hay que hacer ningún paso adicional como compilar, simplemente lo ejecutamos.\n",
    "\n",
    "Para facilitarnos más la vida, en entornos Unix podemos hacer uso del _Shebang_ añadiendo `#!/usr/bin/env python` (o la direcció del interprete que tengamos) en la primera linea del código. Con esto nos podríamos limitar a hacer `./test.py`\n",
    "\n",
    "En windows podríamos associar `.py` a nuestro interprete para poder ejecutarlo directamente.\n"
   ]
  },
  {
   "cell_type": "markdown",
   "metadata": {},
   "source": [
    "# Ejecución interactiva\n"
   ]
  },
  {
   "cell_type": "code",
   "execution_count": null,
   "metadata": {},
   "outputs": [],
   "source": []
  }
 ],
 "metadata": {
  "kernelspec": {
   "display_name": "Python 3",
   "language": "python",
   "name": "python3"
  },
  "language_info": {
   "codemirror_mode": {
    "name": "ipython",
    "version": 3
   },
   "file_extension": ".py",
   "mimetype": "text/x-python",
   "name": "python",
   "nbconvert_exporter": "python",
   "pygments_lexer": "ipython3",
   "version": "3.5.2"
  },
  "toc": {
   "nav_menu": {},
   "number_sections": true,
   "sideBar": true,
   "skip_h1_title": false,
   "toc_cell": false,
   "toc_position": {},
   "toc_section_display": "block",
   "toc_window_display": false
  },
  "varInspector": {
   "cols": {
    "lenName": 16,
    "lenType": 16,
    "lenVar": 40
   },
   "kernels_config": {
    "python": {
     "delete_cmd_postfix": "",
     "delete_cmd_prefix": "del ",
     "library": "var_list.py",
     "varRefreshCmd": "print(var_dic_list())"
    },
    "r": {
     "delete_cmd_postfix": ") ",
     "delete_cmd_prefix": "rm(",
     "library": "var_list.r",
     "varRefreshCmd": "cat(var_dic_list()) "
    }
   },
   "types_to_exclude": [
    "module",
    "function",
    "builtin_function_or_method",
    "instance",
    "_Feature"
   ],
   "window_display": false
  }
 },
 "nbformat": 4,
 "nbformat_minor": 2
}
