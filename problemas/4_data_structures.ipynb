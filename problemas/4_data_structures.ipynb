{
 "cells": [
  {
   "cell_type": "markdown",
   "metadata": {
    "solution2": "hidden",
    "solution2_first": true
   },
   "source": [
    "## Adyacentes\n",
    "\n",
    "Haz una función que reciba una lista y la retorne si elementos adyacentes repetidos (`[1, 2, 2, 3] -> [1, 2, 3]`)"
   ]
  },
  {
   "cell_type": "code",
   "execution_count": 1,
   "metadata": {
    "solution2": "hidden"
   },
   "outputs": [],
   "source": [
    "def remove_adjacent(nums):\n",
    "    result = []\n",
    "    for num in nums:\n",
    "        if len(result) == 0 or num != result[-1]:\n",
    "        result.append(num)\n",
    "    return result"
   ]
  },
  {
   "cell_type": "markdown",
   "metadata": {
    "solution2": "hidden",
    "solution2_first": true
   },
   "source": [
    "## Merge\n",
    "Implementa una función que dados dos listas ordenadas, las una y retorna una lista ordenada. Preferiblemente en tiempo lineal ."
   ]
  },
  {
   "cell_type": "code",
   "execution_count": 8,
   "metadata": {
    "solution2": "hidden"
   },
   "outputs": [
    {
     "name": "stdout",
     "output_type": "stream",
     "text": [
      "['xx', 'zz'] []\n"
     ]
    },
    {
     "data": {
      "text/plain": [
       "['aa', 'bb', 'cc', 'xx', 'zz']"
      ]
     },
     "execution_count": 8,
     "metadata": {},
     "output_type": "execute_result"
    }
   ],
   "source": [
    "def linear_merge(list1, list2):\n",
    "    result = []\n",
    "    while len(list1) and len(list2):\n",
    "        if list1[0] < list2[0]:\n",
    "            result.append(list1.pop(0))\n",
    "        else:\n",
    "            result.append(list2.pop(0))\n",
    "    # Now tack on what's left\n",
    "    result += list1\n",
    "    result += list2\n",
    "    return result\n",
    "\n",
    "linear_merge(['aa', 'xx', 'zz'], ['bb', 'cc'])"
   ]
  },
  {
   "cell_type": "markdown",
   "metadata": {
    "solution2": "hidden",
    "solution2_first": true
   },
   "source": [
    "## Repetidos\n",
    "\n",
    "Programa una función que reciba una lista con valores repetidos y la retorne sin. No importa el orden de los elementos."
   ]
  },
  {
   "cell_type": "code",
   "execution_count": 11,
   "metadata": {
    "solution2": "hidden"
   },
   "outputs": [
    {
     "data": {
      "text/plain": [
       "[1, 2, 3, 4]"
      ]
     },
     "execution_count": 11,
     "metadata": {},
     "output_type": "execute_result"
    }
   ],
   "source": [
    "def repetidos(l):\n",
    "    return list(set(l))\n",
    "repetidos([1, 2, 2, 3, 4, 1])"
   ]
  },
  {
   "cell_type": "code",
   "execution_count": null,
   "metadata": {},
   "outputs": [],
   "source": []
  }
 ],
 "metadata": {
  "kernelspec": {
   "display_name": "Python 3",
   "language": "python",
   "name": "python3"
  },
  "language_info": {
   "codemirror_mode": {
    "name": "ipython",
    "version": 3
   },
   "file_extension": ".py",
   "mimetype": "text/x-python",
   "name": "python",
   "nbconvert_exporter": "python",
   "pygments_lexer": "ipython3",
   "version": "3.5.2"
  },
  "toc": {
   "nav_menu": {},
   "number_sections": true,
   "sideBar": true,
   "skip_h1_title": false,
   "toc_cell": false,
   "toc_position": {},
   "toc_section_display": "block",
   "toc_window_display": false
  },
  "varInspector": {
   "cols": {
    "lenName": 16,
    "lenType": 16,
    "lenVar": 40
   },
   "kernels_config": {
    "python": {
     "delete_cmd_postfix": "",
     "delete_cmd_prefix": "del ",
     "library": "var_list.py",
     "varRefreshCmd": "print(var_dic_list())"
    },
    "r": {
     "delete_cmd_postfix": ") ",
     "delete_cmd_prefix": "rm(",
     "library": "var_list.r",
     "varRefreshCmd": "cat(var_dic_list()) "
    }
   },
   "types_to_exclude": [
    "module",
    "function",
    "builtin_function_or_method",
    "instance",
    "_Feature"
   ],
   "window_display": false
  }
 },
 "nbformat": 4,
 "nbformat_minor": 2
}
