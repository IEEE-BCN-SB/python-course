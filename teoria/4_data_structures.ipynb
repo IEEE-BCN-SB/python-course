{
 "cells": [
  {
   "cell_type": "markdown",
   "metadata": {},
   "source": [
    "# Estructuras de datos\n",
    "\n",
    "Hasta ahora hemos visto un poco algunos tipos de datos que tiene Python. Veamos ahora en más profundidad."
   ]
  },
  {
   "cell_type": "markdown",
   "metadata": {},
   "source": [
    "## Listas\n",
    "\n",
    "Las listas (o vectores en otros lenguajes) es una estructura mutable que contiene un conjunto de datos ordenados al que podemos acceder por su posición. El tipo de dato puede no ser uniforme.\n",
    "\n",
    "Contamos con muchos métodos para manipular este tipo de estructuras, veamos un ejemplo."
   ]
  },
  {
   "cell_type": "code",
   "execution_count": 4,
   "metadata": {},
   "outputs": [],
   "source": [
    "base = [5, 1, \"3\"]    # [5, 1 \"3\"]\n",
    "base.append(2)         # [5, 1, \"3\", 2]\n",
    "base.insert(1,  2)     # [5, 1, 2, \"3\", 2]\n",
    "base.remove(2)         # [5, 1, \"3\", 2]\n",
    "x = base.pop()         # [5, 1, \"3\"]\n",
    "x = base.pop(2)        # [5, 1]\n",
    "\n",
    "x = base.count(1)   # Retorna número de ocurrencias de 1\n",
    "base.sort()         # Ordena la lista\n",
    "base.reverse()      # Invierte la lista"
   ]
  },
  {
   "cell_type": "markdown",
   "metadata": {},
   "source": [
    "### List comprehensions\n",
    "\n",
    "Supongamos que queremos generar una lista conteniendo el valor de los cuadrados de los diez primeros elementos. Podríamos hacer algo como:\n",
    "\n",
    "```py\n",
    "squares = []\n",
    "for x in range(10):\n",
    "    squares.append(x**2)\n",
    "# [0, 1, 4, 9, 16, 25, 36, 49, 64, 81]\n",
    "```\n",
    "\n",
    "Si quisiéramos hacerlo más compacto podríamos utilizar la función `map`, que aplica una función sobre cada elemento de una lista:\n",
    "\n",
    "```py\n",
    "squares = list(map(lambda x: x**2, range(10)))\n",
    "```\n",
    "\n",
    "Aunque funciona no es muy comprensible a primera vista.\n",
    "Disponemos de un tercer método que son las list comprehension, fácilmente comprensible al ojo inexperto:\n",
    "\n",
    "```py\n",
    "squares = [x**2 for x in range(10)]\n",
    "```\n",
    "\n",
    "Si nos fijamos simplemente es un _for_ aplanado. La estructura más formal es:\n",
    "\n",
    "```py\n",
    "[operaciones_generación for variable_iteradora in variable_iterable]\n",
    "```\n",
    "\n",
    "Opcionalmente podemos añadir un `if` al final que solo genera un nuevo elemento si la condición sobre la variable_iteradora es cierta (veremos un ejemplo).\n",
    "\n",
    "Veamos algunos ejemplos.\n"
   ]
  },
  {
   "cell_type": "code",
   "execution_count": null,
   "metadata": {},
   "outputs": [],
   "source": [
    "vec = [-4, -2, 0, 2, 4]\n",
    "print([x*2 for x in vec])\n",
    "print([x for x in vec if x >= 0])\n",
    "print([abs(x) for x in vec])"
   ]
  },
  {
   "cell_type": "code",
   "execution_count": 7,
   "metadata": {},
   "outputs": [
    {
     "name": "stdout",
     "output_type": "stream",
     "text": [
      "[1, 2, 3, 4, 5, 6, 7, 8, 9]\n",
      "[(1, 3), (1, 4), (2, 3), (2, 1), (2, 4), (3, 1), (3, 4)]\n",
      "[[1, 5, 9], [2, 6, 10], [3, 7, 11], [4, 8, 12]]\n"
     ]
    }
   ],
   "source": [
    "# Podemos aplanar listas multidimensionales\n",
    "vec = [[1,2,3], [4,5,6], [7,8,9]]\n",
    "print([num for elem in vec for num in elem])\n",
    "\n",
    "# O Generarlas nosotros mismos\n",
    "print([(x, y) for x in [1,2,3] for y in [3,1,4] if x != y])\n",
    "\n",
    "matrix = [\n",
    "    [1, 2, 3, 4],\n",
    "    [5, 6, 7, 8],\n",
    "    [9, 10, 11, 12],\n",
    "]\n",
    "\n",
    "print([[row[i] for row in matrix] for i in range(4)])"
   ]
  },
  {
   "cell_type": "markdown",
   "metadata": {},
   "source": [
    "## _del_\n",
    "\n",
    "Aunque el interprete se encarga de la gestión de memoria podemos elimiar elementos utilizando el statement __del__ :"
   ]
  },
  {
   "cell_type": "code",
   "execution_count": 14,
   "metadata": {},
   "outputs": [
    {
     "name": "stdout",
     "output_type": "stream",
     "text": [
      "[1, 66.25, 333, 333, 1234.5]\n",
      "[1, 66.25, 1234.5]\n"
     ]
    },
    {
     "ename": "NameError",
     "evalue": "name 'a' is not defined",
     "output_type": "error",
     "traceback": [
      "\u001b[0;31m---------------------------------------------------------------------------\u001b[0m",
      "\u001b[0;31mNameError\u001b[0m                                 Traceback (most recent call last)",
      "\u001b[0;32m<ipython-input-14-7ad254d09972>\u001b[0m in \u001b[0;36m<module>\u001b[0;34m()\u001b[0m\n\u001b[1;32m      7\u001b[0m \u001b[0;34m\u001b[0m\u001b[0m\n\u001b[1;32m      8\u001b[0m \u001b[0;32mdel\u001b[0m \u001b[0ma\u001b[0m\u001b[0;34m\u001b[0m\u001b[0m\n\u001b[0;32m----> 9\u001b[0;31m \u001b[0mprint\u001b[0m\u001b[0;34m(\u001b[0m\u001b[0ma\u001b[0m\u001b[0;34m)\u001b[0m\u001b[0;34m\u001b[0m\u001b[0m\n\u001b[0m",
      "\u001b[0;31mNameError\u001b[0m: name 'a' is not defined"
     ]
    }
   ],
   "source": [
    "a = [-1, 1, 66.25, 333, 333, 1234.5]\n",
    "del a[0]\n",
    "print(a)\n",
    "\n",
    "del a[2:4]\n",
    "print(a)\n",
    "\n",
    "del a\n",
    "print(a)"
   ]
  },
  {
   "cell_type": "markdown",
   "metadata": {},
   "source": [
    "## Tuplas\n",
    "\n",
    "Las tuplas son conjuntos de datos ordenados inmutables. Aunque podemos editar los datos una vez creada, no podemos añadir o eliminar elementos sin destruirla.\n",
    "\n",
    "Para declarar una tupla separaremos los valores por comas (y normalmente añadiremos paréntesis):"
   ]
  },
  {
   "cell_type": "code",
   "execution_count": 51,
   "metadata": {},
   "outputs": [
    {
     "name": "stdout",
     "output_type": "stream",
     "text": [
      "12345\n",
      "(12345, 54321, 'hello!')\n",
      "hello!\n"
     ]
    },
    {
     "ename": "TypeError",
     "evalue": "'tuple' object does not support item assignment",
     "output_type": "error",
     "traceback": [
      "\u001b[0;31m---------------------------------------------------------------------------\u001b[0m",
      "\u001b[0;31mTypeError\u001b[0m                                 Traceback (most recent call last)",
      "\u001b[0;32m<ipython-input-51-d3bd595e921b>\u001b[0m in \u001b[0;36m<module>\u001b[0;34m()\u001b[0m\n\u001b[1;32m      8\u001b[0m \u001b[0;34m\u001b[0m\u001b[0m\n\u001b[1;32m      9\u001b[0m \u001b[0;34m\u001b[0m\u001b[0m\n\u001b[0;32m---> 10\u001b[0;31m \u001b[0mt\u001b[0m\u001b[0;34m[\u001b[0m\u001b[0;36m0\u001b[0m\u001b[0;34m]\u001b[0m \u001b[0;34m=\u001b[0m \u001b[0;36m88888\u001b[0m  \u001b[0;31m# Nope, son inmutables\u001b[0m\u001b[0;34m\u001b[0m\u001b[0m\n\u001b[0m",
      "\u001b[0;31mTypeError\u001b[0m: 'tuple' object does not support item assignment"
     ]
    }
   ],
   "source": [
    "t = 12345, 54321, 'hello!'\n",
    "print(t[0])\n",
    "print(t)\n",
    "\n",
    "# Se utilizan bastante a nivel interno del lenguaje\n",
    "a, b, c = t\n",
    "print(c)\n",
    "\n",
    "\n",
    "t[0] = 88888  # Nope, son inmutables"
   ]
  },
  {
   "cell_type": "markdown",
   "metadata": {},
   "source": [
    "# Sets\n",
    "\n",
    "Los sets son una colección de datos no ordenados sin valores duplicados.\n",
    "Los declaramos usando corchetes `{}`:"
   ]
  },
  {
   "cell_type": "code",
   "execution_count": 27,
   "metadata": {},
   "outputs": [
    {
     "name": "stdout",
     "output_type": "stream",
     "text": [
      "{'pear', 'orange', 'apple', 'banana'}\n",
      "True\n",
      "{'d', 'r'}\n"
     ]
    }
   ],
   "source": [
    "basket = {'apple', 'orange', 'apple', 'pear', 'orange'}\n",
    "basket.add(\"banana\")\n",
    "print(basket)\n",
    "print('banana' in basket)\n",
    "\n",
    "# También tenemos set comprehension\n",
    "print({x for x in 'abracadabra' if x not in 'abc'})"
   ]
  },
  {
   "cell_type": "markdown",
   "metadata": {},
   "source": [
    "## Diccionarios\n",
    "\n",
    "Los diccionarios son un conjunta de datos clave-valor en dónde accedemos al los valores a través de su clave, que no puede ser repetida. Su sintaxis es similar a la de los sets, con la diferencia que separamos la clave del valor con `:`.\n"
   ]
  },
  {
   "cell_type": "code",
   "execution_count": 29,
   "metadata": {},
   "outputs": [
    {
     "name": "stdout",
     "output_type": "stream",
     "text": [
      "{'guido': 4127, 'sape': 4139, 'jack': 4098}\n"
     ]
    }
   ],
   "source": [
    "tel = {'jack': 4098, 'sape': 4139}\n",
    "tel['guido'] = 4127\n",
    "print(tel)"
   ]
  },
  {
   "cell_type": "code",
   "execution_count": 41,
   "metadata": {},
   "outputs": [
    {
     "name": "stdout",
     "output_type": "stream",
     "text": [
      "4098\n",
      "None\n",
      "nope\n",
      "\n",
      "{'snape': 1234, 'sape': 4139, 'jack': 4098}\n",
      "{'snape': 4321, 'sape': 4139, 'jack': 4098}\n"
     ]
    }
   ],
   "source": [
    "# Acceso a datos\n",
    "tel = {'jack': 4098, 'sape': 4139}\n",
    "print(tel['jack'])\n",
    "#print(tel['daniels'])\n",
    "print(tel.get('daniels'))\n",
    "print(tel.get('daniels', \"nope\"))\n",
    "print()\n",
    "\n",
    "tel['snape'] = 1234\n",
    "print(tel)\n",
    "tel['snape'] = 4321\n",
    "print(tel)"
   ]
  },
  {
   "cell_type": "code",
   "execution_count": 50,
   "metadata": {},
   "outputs": [
    {
     "name": "stdout",
     "output_type": "stream",
     "text": [
      "False\n",
      "dict_keys(['sape', 'jack'])\n",
      "dict_items([('sape', 4139), ('jack', 4098)])\n",
      "sape 4139\n",
      "jack 4098\n"
     ]
    }
   ],
   "source": [
    "# Otras operaciones\n",
    "tel = {'jack': 4098, 'sape': 4139}\n",
    "print('guido' in tel)\n",
    "print(tel.keys())\n",
    "print(tel.items())\n",
    "\n",
    "# Iterando sobre diccionarios\n",
    "for k, v in tel.items():\n",
    "    print(k, v)\n",
    "    "
   ]
  },
  {
   "cell_type": "markdown",
   "metadata": {},
   "source": [
    "# Enlaces\n",
    "\n",
    "* [Python Tutorial - More on control flow tools \\[en\\]](https://docs.python.org/3/tutorial/controlflow.html#defining-functions)\n",
    "* [Python language reference - FUnction definitions \\[en\\]](https://docs.python.org/3/reference/compound_stmts.html#function-definitions)\n",
    "* [Python functions arguments value/reference well explained - StackOverflow \\[en\\]](https://stackoverflow.com/questions/986006/how-do-i-pass-a-variable-by-reference)\n"
   ]
  },
  {
   "cell_type": "markdown",
   "metadata": {},
   "source": [
    "<span style=\"float: left\">  [<- 3_functions](./3_functions.ipynb) </span>\n",
    "<span style=\"float: right\"> [5_modules->](./5_modules.ipynb) </span>"
   ]
  },
  {
   "cell_type": "code",
   "execution_count": null,
   "metadata": {},
   "outputs": [],
   "source": []
  }
 ],
 "metadata": {
  "kernelspec": {
   "display_name": "Python 3",
   "language": "python",
   "name": "python3"
  },
  "language_info": {
   "codemirror_mode": {
    "name": "ipython",
    "version": 3
   },
   "file_extension": ".py",
   "mimetype": "text/x-python",
   "name": "python",
   "nbconvert_exporter": "python",
   "pygments_lexer": "ipython3",
   "version": "3.5.2"
  },
  "toc": {
   "nav_menu": {},
   "number_sections": true,
   "sideBar": true,
   "skip_h1_title": false,
   "toc_cell": false,
   "toc_position": {},
   "toc_section_display": "block",
   "toc_window_display": false
  },
  "varInspector": {
   "cols": {
    "lenName": 16,
    "lenType": 16,
    "lenVar": 40
   },
   "kernels_config": {
    "python": {
     "delete_cmd_postfix": "",
     "delete_cmd_prefix": "del ",
     "library": "var_list.py",
     "varRefreshCmd": "print(var_dic_list())"
    },
    "r": {
     "delete_cmd_postfix": ") ",
     "delete_cmd_prefix": "rm(",
     "library": "var_list.r",
     "varRefreshCmd": "cat(var_dic_list()) "
    }
   },
   "types_to_exclude": [
    "module",
    "function",
    "builtin_function_or_method",
    "instance",
    "_Feature"
   ],
   "window_display": false
  }
 },
 "nbformat": 4,
 "nbformat_minor": 2
}
