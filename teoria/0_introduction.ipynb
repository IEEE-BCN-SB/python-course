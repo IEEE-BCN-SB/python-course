{
 "cells": [
  {
   "cell_type": "markdown",
   "metadata": {},
   "source": [
    "# El curso"
   ]
  },
  {
   "cell_type": "markdown",
   "metadata": {},
   "source": [
    "# Quién lo organiza?\n",
    "\n",
    "<img src=\"img/logoLinuxUpc.png\",width=444,height=177>\n",
    "\n",
    "El curso ha sido preparada y realizado por **LinuxUPC**, una asociación de estudiantes de la UPC (Universiat Politècnica de Catalunya - BarcelonaTech) sin ánimo de lucro con base en el Campus Norte de Barcelona.\n",
    "\n",
    "Esta asociación tiene como objetivo general la promoción del software libre y su desarrollo, y como actividad cotidiana el desarrollo de pequeños proyectos de software. Estos proyectos se definen conforme a los intereses de los miembros y no tienen por que ser estrictamente de software libre, tocamos cualquier área des del punto de vista de la informática.\n",
    "\n",
    "<img src=\"img/logoAlfaBlackIeeeBcn.png\",width=444,height=177>\n",
    "\n",
    "De cara al exterior, el curso se ofrece bajo el nombre de la **rama de estudiantes del IEEE Barcelona** (UPC). Esta asociación con la que compartimos despacho tiene unos objetivos muy similares a los de *LinuxUPC*, salvo que su actividad se centra más en proyectos des del punto de vista de la electrónica. Es por eso que a menudo hacemos proyectos conjuntos. A parte de ser una asociación de la universidad también son una rama del IEEE oficial, por lo que se ha decidido ofrecer el curso bajo este nombre y una licencia libre para que toda la comunidad se puede beneficiar.\n",
    "\n",
    "<img src=\"img/logoUpc.jpg\", width=444>"
   ]
  },
  {
   "cell_type": "markdown",
   "metadata": {},
   "source": [
    "# Python"
   ]
  },
  {
   "cell_type": "markdown",
   "metadata": {
    "solution2": "shown",
    "solution2_first": true
   },
   "source": [
    "## Origen del nombre\n",
    "\n",
    "De dónde sale el nombre? De la serpiente? Del dragón mitològico griego? Del missil Israeli?\n"
   ]
  },
  {
   "cell_type": "code",
   "execution_count": 2,
   "metadata": {
    "scrolled": true,
    "solution2": "shown"
   },
   "outputs": [
    {
     "data": {
      "text/html": [
       "<iframe width=\"560\" height=\"315\" src=\"https://www.youtube-nocookie.com/embed/L8RDdmkfEqQ?rel=0\" frameborder=\"0\" allow=\"autoplay; encrypted-media\" allowfullscreen></iframe>"
      ],
      "text/plain": [
       "<IPython.core.display.HTML object>"
      ]
     },
     "execution_count": 2,
     "metadata": {},
     "output_type": "execute_result"
    }
   ],
   "source": [
    "from IPython.display import HTML\n",
    "\n",
    "# Youtube\n",
    "HTML('<iframe width=\"560\" height=\"315\" src=\"https://www.youtube-nocookie.com/embed/L8RDdmkfEqQ?rel=0\" frameborder=\"0\" allow=\"autoplay; encrypted-media\" allowfullscreen></iframe>')"
   ]
  },
  {
   "cell_type": "markdown",
   "metadata": {
    "solution2": "shown"
   },
   "source": [
    "<img src=\"img/spam.png\",width=333, style=\"float: left\">"
   ]
  },
  {
   "cell_type": "markdown",
   "metadata": {},
   "source": [
    "## HIstória\n",
    "Python fue creado a finales de los 80s por Guido van Rossum en el Centro para las Matemáticas y la Informática (CWI, Centrum Wiskunde & Informatica) de en los Países Bajos.\n",
    "\n",
    "Se trata de un lenguaje de programació __interpretado__, de muy __alto nivel__ y de __proposito general__ caracterizado por su simplicidad. Incorpora _tipado dinámico_ y _gestión automática d ela memoria_. Soporta multiples paradigmas de programación como _orientación a objetos_, _programación imperativa, funcional y procedual_ y contiene una gran cantidad de paquetes por defecto.\n",
    "\n",
    "<img src=\"img/guidoVan.jpg\",width=200, style=\"float: left\" >\n",
    "<img src=\"img/logoPython.svg\", height=250, style=\"float: right\"; >\n"
   ]
  },
  {
   "cell_type": "markdown",
   "metadata": {},
   "source": [
    "### Características\n",
    "\n",
    "#### Interpretado\n",
    "\n",
    "El programa que escribimos no se traduce a codigo máquina que entienda la CPU, si que no es interpretado en tiempo de ejecución por un programa externo llamado \"interprete\". El interprete oficial es el CPython, escrito en C, aunque también existen otros escritos en Java o Python (PyPy) y cross-compilers de lenguajes como JavaScript, C++ o Go.\n",
    "\n",
    "#### Multiplataforma\n",
    "\n",
    "Como el código no interactua directamente con el SO, sinó con el interprete, existe una capa de abstracción que permita la ejecución multiplataforma. En la actualidad hay soporte oficial para la moyoria de versiones de Windows, Linux i _TODO: buscar nombre manzana podrida_.\n",
    "\n",
    "#### Propísito general\n",
    "\n",
    "El lenguaje no está diseñado para un objetivo en general (como JS para la web o microC para PICs). Gracias a eso es utilizado en muchar areas aportando documentación, y facilidad de uso. Por contrapartida también implica que para utilizar-lo en entornos específicos siempre requeriremos de algún tipo de framework.\n",
    "\n",
    "<img src=\"img/bussines.png\", width=800px >\n",
    "\n",
    "#### Pilas incluidas\n",
    "\n",
    "Junto con el compilador se incluye una gran cantidad de modulos que forman parte de la biblioteca standard de Python. Además disponemos de un repositorio centralizado de modulos de Python (PIP), lo que hace extremadamente sencillo utilizar código de terceros.\n",
    "\n",
    "#### Eficiencia\n",
    "\n",
    "> The 90% of the execution time of a computer program is spent executing 10% of the code (Tom Cargill, Bell Labs - variation)\n",
    "\n",
    "Por ser interpretado no tiene la misma eficiencia que los lenjueges compilados. La diferencia sin envargo nó es demasiado grande, ya que entre otras cosas la moyoria de las compuitaciés costosas las hace el compilador o una librería que si es compilado, delegando al codigo de python a una mera eramienta de coordinación.\n",
    "\n",
    "#### Muy alto nivel\n",
    "\n",
    "El alto nivel de abstracción que nos ofrece, permite realizar tareas complejas en muy pocas lineas i en muchos casos sin requerir un conocimiento tècnico elevado.\n",
    "\n",
    "En definitiva Python es un lenguaje de programación sencillo, diseñado para ser leido por los humnos en primer lugar, y ser comprensibles por la maquina en segundo.\n",
    "\n",
    "#### Multiparadigma\n",
    "\n",
    "Como en otros casos podemos programar utilizando uno o diferentes paradigmas como programación orientada a objetos, programación funcional, programación imperativa entre otras.\n",
    "\n"
   ]
  },
  {
   "cell_type": "markdown",
   "metadata": {},
   "source": [
    "### Versionado\n",
    "\n",
    "El código de versionado que utiliza Python (así como gran parte de sus módulos) es del tipo `major.minor[.maintenance]` (3.2.1 o 2.7.1).\n",
    "\n",
    "Sobre las varsiones del lenguaje, a parte de la introducció de nuevos elementos y funcionalidades, nos interesa entender el tema de la compatibilidad.\n",
    "\n",
    "Las versiones con diferentes _major_ noi són compatibles entre sí, es ddir, un programa que funcione en Python2 no tiene por que funcionar en un interprete de Python3 ni viceversa.\n",
    "\n",
    "Actualmente coexisten dos grandes versiones, Python2 (2000) y Python3(2008). La versión 2 está en proceso de descontinuación y debe utilizarse la versión 3 para nuevos proyectos. Pese a ello, y debido a que aún existe una gran cantidad de código que aún no se migrado, se aplazó la fecha de _EOL_ para el 2020.\n",
    "\n",
    "La versiones con diferentes _minor_ (pero mismo _major_) introducen nuevas características en el lenguajes, pero són retrocompatibles. Un programa para 3.2 _siempre_ funcionara en 3.3 pero no al contrario.\n",
    "\n",
    "Finalmente diferentes _maintenance_ arreglan bugs o comportamientos no deseaods. No incorporan nuevas características pero puede que su comportamiento difiera en las partes modificadas.\n",
    "\n"
   ]
  },
  {
   "cell_type": "markdown",
   "metadata": {},
   "source": [
    "# Enlaces\n",
    "\n",
    "* [Python tutorial - Whetting Your Appetite \\[en\\]](https://docs.python.org/3/tutorial/appetite.html)\n",
    "* [Python - Wikipedia \\[en\\]](https://en.wikipedia.org/wiki/Python_(programming_language)\n",
    "* [Software versioning - Wikipedia \\[en\\]](https://en.wikipedia.org/wiki/Software_versioning)\n"
   ]
  },
  {
   "cell_type": "markdown",
   "metadata": {},
   "source": [
    "# Imagenes\n",
    "\n",
    "* [Spam - Wikimedia](https://commons.wikimedia.org/wiki/File:Spam_can.png)\n",
    "* [Guido van Rossum - Wikimedia](https://commons.wikimedia.org/wiki/File:Guido_van_Rossum_OSCON_2006.jpg)\n",
    "* [Python logo - Wikimedia](https://upload.wikimedia.org/wikipedia/commons/f/f8/Python_logo_and_wordmark.svg)"
   ]
  },
  {
   "cell_type": "markdown",
   "metadata": {},
   "source": [
    "<span style=\"float: left\">  [<- Index](.) </span>\n",
    "<span style=\"float: right\"> [1_basics ->](./1_basics.ipynb) </span>"
   ]
  }
 ],
 "metadata": {
  "kernelspec": {
   "display_name": "Python 3",
   "language": "python",
   "name": "python3"
  },
  "language_info": {
   "codemirror_mode": {
    "name": "ipython",
    "version": 3
   },
   "file_extension": ".py",
   "mimetype": "text/x-python",
   "name": "python",
   "nbconvert_exporter": "python",
   "pygments_lexer": "ipython3",
   "version": "3.5.2"
  },
  "toc": {
   "nav_menu": {},
   "number_sections": true,
   "sideBar": true,
   "skip_h1_title": false,
   "title_cell": "Table of Contents",
   "title_sidebar": "Contents",
   "toc_cell": false,
   "toc_position": {},
   "toc_section_display": "block",
   "toc_window_display": false
  },
  "varInspector": {
   "cols": {
    "lenName": 16,
    "lenType": 16,
    "lenVar": 40
   },
   "kernels_config": {
    "python": {
     "delete_cmd_postfix": "",
     "delete_cmd_prefix": "del ",
     "library": "var_list.py",
     "varRefreshCmd": "print(var_dic_list())"
    },
    "r": {
     "delete_cmd_postfix": ") ",
     "delete_cmd_prefix": "rm(",
     "library": "var_list.r",
     "varRefreshCmd": "cat(var_dic_list()) "
    }
   },
   "types_to_exclude": [
    "module",
    "function",
    "builtin_function_or_method",
    "instance",
    "_Feature"
   ],
   "window_display": false
  }
 },
 "nbformat": 4,
 "nbformat_minor": 1
}
