{
 "cells": [
  {
   "cell_type": "markdown",
   "metadata": {},
   "source": [
    "# El cuso"
   ]
  },
  {
   "cell_type": "markdown",
   "metadata": {},
   "source": [
    "# Quién lo organiza?\n",
    "\n",
    "<img src=\"img/logoLinuxUpc.png\",width=444,height=177>\n",
    "\n",
    "El curso ha sido preparada y realizado por **LinuxUPC**, una asociación de estudiantes de la UPC (Universiat Politècnica de Catalunya - BarcelonaTech) sin ánimo de lucro con base en el Campus Norte de Barcelona.\n",
    "\n",
    "Esta asociación tiene como objetivo general la promoción del software libre y su desarrollo, y como actividad cotidiana el desarrollo de pequeños proyectos de software. Estos proyectos se definen conforme a los intereses de los miembros y no tienen por que ser estrictamente de software libre, tocamos cualquier área des del punto de vista de la informática.\n",
    "\n",
    "<img src=\"img/logoAlfaBlackIeeeBcn.png\",width=444,height=177>\n",
    "\n",
    "De cara al exterior, el curso se ofrece bajo el nombre de la **rama de estudiantes del IEEE Barcelona** (UPC). Esta asociación con la que compartimos despacho tiene unos objetivos muy similares a los de *LinuxUPC*, salvo que su actividad se centra más en proyectos des del punto de vista de la electrónica. Es por eso que a menudo hacemos proyectos conjuntos. A parte de ser una asociación de la universidad también son una rama del IEEE oficial, por lo que se ha decidido ofrecer el curso bajo este nombre y una licencia libre para que toda la comunidad se puede beneficiar.\n",
    "\n",
    "<img src=\"img/logoUpc.jpg\", width=444>"
   ]
  },
  {
   "cell_type": "markdown",
   "metadata": {},
   "source": [
    "# Python"
   ]
  },
  {
   "cell_type": "markdown",
   "metadata": {
    "solution2": "shown",
    "solution2_first": true
   },
   "source": [
    "## Origen del nombre\n",
    "\n",
    "De dónde sale el nombre? De una serpiente quizás?\n"
   ]
  },
  {
   "cell_type": "code",
   "execution_count": 2,
   "metadata": {
    "scrolled": true,
    "solution2": "shown"
   },
   "outputs": [
    {
     "data": {
      "text/html": [
       "<iframe width=\"560\" height=\"315\" src=\"https://www.youtube.com/embed/L8RDdmkfEqQ?rel=0&amp;controls=0&amp;showinfo=0\" frameborder=\"0\" allowfullscreen></iframe>"
      ],
      "text/plain": [
       "<iframe width=\"560\" height=\"315\" src=\"https://www.youtube.com/embed/L8RDdmkfEqQ?rel=0&amp;controls=0&amp;showinfo=0\" frameborder=\"0\" allowfullscreen></iframe>"
      ]
     },
     "execution_count": 2,
     "metadata": {},
     "output_type": "execute_result"
    }
   ],
   "source": [
    "from IPython.display import HTML\n",
    "\n",
    "# Youtube\n",
    "HTML('<iframe width=\"560\" height=\"315\" src=\"https://www.youtube.com/embed/L8RDdmkfEqQ?rel=0&amp;controls=0&amp;showinfo=0\" frameborder=\"0\" allowfullscreen></iframe>')\n"
   ]
  },
  {
   "cell_type": "markdown",
   "metadata": {
    "solution2": "shown"
   },
   "source": [
    "<img src=\"img/spam.png\",width=333, style=\"float: left\">"
   ]
  },
  {
   "cell_type": "code",
   "execution_count": null,
   "metadata": {},
   "outputs": [],
   "source": []
  }
 ],
 "metadata": {
  "kernelspec": {
   "display_name": "Python 3",
   "language": "python",
   "name": "python3"
  },
  "language_info": {
   "codemirror_mode": {
    "name": "ipython",
    "version": 3
   },
   "file_extension": ".py",
   "mimetype": "text/x-python",
   "name": "python",
   "nbconvert_exporter": "python",
   "pygments_lexer": "ipython3",
   "version": "3.5.2"
  },
  "toc": {
   "nav_menu": {},
   "number_sections": true,
   "sideBar": true,
   "skip_h1_title": false,
   "toc_cell": false,
   "toc_position": {},
   "toc_section_display": "block",
   "toc_window_display": false
  },
  "varInspector": {
   "cols": {
    "lenName": 16.0,
    "lenType": 16.0,
    "lenVar": 40.0
   },
   "kernels_config": {
    "python": {
     "delete_cmd_postfix": "",
     "delete_cmd_prefix": "del ",
     "library": "var_list.py",
     "varRefreshCmd": "print(var_dic_list())"
    },
    "r": {
     "delete_cmd_postfix": ") ",
     "delete_cmd_prefix": "rm(",
     "library": "var_list.r",
     "varRefreshCmd": "cat(var_dic_list()) "
    }
   },
   "types_to_exclude": [
    "module",
    "function",
    "builtin_function_or_method",
    "instance",
    "_Feature"
   ],
   "window_display": false
  }
 },
 "nbformat": 4,
 "nbformat_minor": 2
}
