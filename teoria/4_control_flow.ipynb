{
 "cells": [
  {
   "cell_type": "markdown",
   "metadata": {},
   "source": [
    "# Estructuras de control"
   ]
  },
  {
   "cell_type": "markdown",
   "metadata": {},
   "source": [
    "Para la ejecución de bloques de código de manera condicional en python contamos con los elementos: if-elif-else, while, for"
   ]
  },
  {
   "cell_type": "markdown",
   "metadata": {},
   "source": [
    "## if\n",
    "\n",
    "La estructura __if__ permite ejecutar una sección de código solo si la condición que le sigue es cierta.\n",
    "Opcionalmente puede ir seguida de cero o más __elif__ que serán ejecutados si los condicionales anteriores fueren negativos. Finalmente disponemos del statement __else__ que será ejecutado si todos loc condicionales evalúan a falso.\n",
    "\n",
    "Un _if_ con todos estos elementos tiene la siguiente forma:\n",
    "\n",
    "``` py\n",
    "if conditionA:\n",
    "    statementA\n",
    "elif conditionB:\n",
    "    statementB\n",
    "elif conditionC:\n",
    "    statementC\n",
    "else:\n",
    "    defaultStatement\n",
    "```\n",
    "\n",
    "A diferencia de otros lenguajes Python no dispone de _switch_ o _case_, pero se pueden simular con un conjunto de _elif_.\n",
    "\n",
    "\n",
    "\n"
   ]
  },
  {
   "cell_type": "code",
   "execution_count": 30,
   "metadata": {},
   "outputs": [
    {
     "name": "stdout",
     "output_type": "stream",
     "text": [
      "Introduzca un número entero: 1\n",
      "Uno\n"
     ]
    }
   ],
   "source": [
    "x = int(input(\"Introduzca un número entero: \"))\n",
    "\n",
    "if x < 0:\n",
    "    x = 0\n",
    "    print('Negativo cambiado a cero')\n",
    "elif x == 0:\n",
    "    print('Zero')\n",
    "elif x == 1:\n",
    "    print('Uno')\n",
    "else:\n",
    "    print('Más de uno')"
   ]
  },
  {
   "cell_type": "markdown",
   "metadata": {},
   "source": [
    "# _while_\n",
    "\n",
    "Esta _sentencia compuesta_ ejecuta el còdigo en su interior mientras la condición en su cabecera sea cierta.\n",
    "\n",
    "En su forma común la estructura es:\n",
    "```py\n",
    "while condition:\n",
    "    statements\n",
    "```"
   ]
  },
  {
   "cell_type": "markdown",
   "metadata": {},
   "source": [
    "# _for_\n",
    "\n",
    "El elemento __for__ en Python sirve para iterar sobre una secuencia (lista, String) o algún elemento generador (más sobre este tema en el futuro).\n",
    "Fijaros que este comportamiento, aunque presente puntualmente en otros lenguajes, difiere bastante de lo que entenderíamos por _for_ en _C_ o _Java_.\n",
    "\n",
    "La esructura que sigue és:\n",
    "```py\n",
    "for var_name in sequence_name:\n",
    "    statements\n",
    "```\n",
    "\n"
   ]
  },
  {
   "cell_type": "code",
   "execution_count": 29,
   "metadata": {},
   "outputs": [
    {
     "name": "stdout",
     "output_type": "stream",
     "text": [
      "1\n",
      "1\n",
      "2\n",
      "3\n",
      "5\n",
      "8\n"
     ]
    }
   ],
   "source": [
    "# FIBonacci series:\n",
    "# the sum of two elements defines the next\n",
    "a, b = 0, 1\n",
    "while b < 10:\n",
    "    print(b)\n",
    "    a, b = b, a+b"
   ]
  },
  {
   "cell_type": "code",
   "execution_count": 8,
   "metadata": {
    "code_folding": []
   },
   "outputs": [
    {
     "name": "stdout",
     "output_type": "stream",
     "text": [
      "cat 3\n",
      "window 6\n",
      "defenestrate 12\n"
     ]
    }
   ],
   "source": [
    "# Measure some strings:\n",
    "words = ['cat', 'window', 'defenestrate']\n",
    "for w in words:\n",
    "    print(w, len(w))"
   ]
  },
  {
   "cell_type": "markdown",
   "metadata": {},
   "source": [
    "El elemento sobre el que se itera se selecciona en cada iteración, eso puede llevar a un funcionamiento inesperado:"
   ]
  },
  {
   "cell_type": "code",
   "execution_count": 17,
   "metadata": {},
   "outputs": [
    {
     "data": {
      "text/plain": [
       "['defenestrate', 'cat', 'window', 'defenestrate']"
      ]
     },
     "execution_count": 17,
     "metadata": {},
     "output_type": "execute_result"
    }
   ],
   "source": [
    "words = ['cat', 'window', 'defenestrate']\n",
    "for w in words: # Prueba a iterar sobre un segmento de la lista entera:  words[:]\n",
    "    if len(w) > 6:\n",
    "        words.insert(0, w)\n",
    "    \n",
    "words"
   ]
  },
  {
   "cell_type": "markdown",
   "metadata": {},
   "source": [
    "## range()\n",
    "\n",
    "Para iterar sobre una secuencia de números podemos utilizar la función del lenguaje __range()__\n",
    "\n",
    "Esta función puede tener entre 1 y 3 parámetros:\n",
    "- `range(a)` -> Genera la secuencia \\[0.._a_) incrementando en una unidad\n",
    "- `range(a, b)` -> Genera la secuencia \\[_a_.._b_) incrementando en una unidad\n",
    "- `range(a, b, c)` -> Genera la secuencia \\[_a_.._b_) incrementando _c_ unidades en cada iteración"
   ]
  },
  {
   "cell_type": "code",
   "execution_count": 22,
   "metadata": {},
   "outputs": [
    {
     "name": "stdout",
     "output_type": "stream",
     "text": [
      "0\n",
      "1\n",
      "2\n",
      "3\n",
      "4\n"
     ]
    }
   ],
   "source": [
    "for i in range(5):\n",
    "    print(i)"
   ]
  },
  {
   "cell_type": "markdown",
   "metadata": {},
   "source": [
    "# _break_, _continue_ y _else_ en bucles\n",
    "\n",
    "Como en otros lenguajes _Python_ nos ofrece la posibilidad de forzar la salida de un bucle con __break__ o la de saltar a la siguiente iteración utilizando __continue__. Lo que no resulta tan común es el uso del statement __else__ en los bucles, que únicamente es ejecutado si se ha salido del bucle de forma normal (no ha sido a causa de un _break_)."
   ]
  },
  {
   "cell_type": "code",
   "execution_count": 24,
   "metadata": {},
   "outputs": [
    {
     "name": "stdout",
     "output_type": "stream",
     "text": [
      "2 is a prime number\n",
      "3 is a prime number\n",
      "4 equals 2 * 2\n",
      "5 is a prime number\n",
      "6 equals 2 * 3\n",
      "7 is a prime number\n",
      "8 equals 2 * 4\n",
      "9 equals 3 * 3\n"
     ]
    }
   ],
   "source": [
    "for n in range(2, 10):\n",
    "    for x in range(2, n):\n",
    "        if n % x == 0:\n",
    "            print(n, 'equals', x, '*', n//x)\n",
    "            break\n",
    "    else:\n",
    "        # loop fell through without finding a factor\n",
    "        print(n, 'is a prime number')"
   ]
  },
  {
   "cell_type": "code",
   "execution_count": 25,
   "metadata": {},
   "outputs": [
    {
     "name": "stdout",
     "output_type": "stream",
     "text": [
      "Found an even number 2\n",
      "Found a number 3\n",
      "Found an even number 4\n",
      "Found a number 5\n",
      "Found an even number 6\n",
      "Found a number 7\n",
      "Found an even number 8\n",
      "Found a number 9\n"
     ]
    }
   ],
   "source": [
    "for num in range(2, 10):\n",
    "    if num % 2 == 0:\n",
    "        print(\"Found an even number\", num)\n",
    "        continue\n",
    "    print(\"Found a number\", num)\n"
   ]
  },
  {
   "cell_type": "markdown",
   "metadata": {},
   "source": [
    "## _pass_\n",
    "\n",
    "Hay algunas sentencias que por sintaxis requieren algo después de ellas como es el caso de las declaraciones de funciones o los bucles. Además, puesto que el lenguaje utiliza identación en lugar de corchetes para separar los bloques resulta imposible declarar un bloque vacío. Por ello existe el elemento __pass__, que no hace absolutamente nada.\n",
    "\n",
    "```py\n",
    "while True:\n",
    "    pass  # Busy-wait for keyboard interrupt (Ctrl+C)\n",
    "\n",
    "class MyEmptyClass:\n",
    "    pass\n",
    "\n",
    "def initlog(*args):\n",
    "    pass   # Remember to implement this!\n",
    "```\n"
   ]
  },
  {
   "cell_type": "markdown",
   "metadata": {},
   "source": [
    "# Enlaces\n",
    "\n",
    "* [Python tutorial - More Control Flow Tools \\[en\\]](https://docs.python.org/3/tutorial/controlflow.html)\n",
    "* [Python language reference - Compound statements \\[en\\]](https://docs.python.org/3/tutorial/controlflow.html)\n"
   ]
  },
  {
   "cell_type": "markdown",
   "metadata": {},
   "source": [
    "<span style=\"float: left\">  [<- ?](./5_functions.ipynb) </span>\n",
    "<span style=\"float: right\"> [5_functions ->](./5_functions.ipynb) </span>\n"
   ]
  },
  {
   "cell_type": "code",
   "execution_count": null,
   "metadata": {},
   "outputs": [],
   "source": []
  }
 ],
 "metadata": {
  "kernelspec": {
   "display_name": "Python 3",
   "language": "python",
   "name": "python3"
  },
  "language_info": {
   "codemirror_mode": {
    "name": "ipython",
    "version": 3
   },
   "file_extension": ".py",
   "mimetype": "text/x-python",
   "name": "python",
   "nbconvert_exporter": "python",
   "pygments_lexer": "ipython3",
   "version": "3.5.2"
  },
  "toc": {
   "nav_menu": {},
   "number_sections": true,
   "sideBar": true,
   "skip_h1_title": false,
   "toc_cell": false,
   "toc_position": {},
   "toc_section_display": "block",
   "toc_window_display": false
  },
  "varInspector": {
   "cols": {
    "lenName": 16,
    "lenType": 16,
    "lenVar": 40
   },
   "kernels_config": {
    "python": {
     "delete_cmd_postfix": "",
     "delete_cmd_prefix": "del ",
     "library": "var_list.py",
     "varRefreshCmd": "print(var_dic_list())"
    },
    "r": {
     "delete_cmd_postfix": ") ",
     "delete_cmd_prefix": "rm(",
     "library": "var_list.r",
     "varRefreshCmd": "cat(var_dic_list()) "
    }
   },
   "types_to_exclude": [
    "module",
    "function",
    "builtin_function_or_method",
    "instance",
    "_Feature"
   ],
   "window_display": false
  }
 },
 "nbformat": 4,
 "nbformat_minor": 2
}
