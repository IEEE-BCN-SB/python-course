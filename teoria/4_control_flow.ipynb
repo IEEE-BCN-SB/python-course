{
 "cells": [
  {
   "cell_type": "markdown",
   "metadata": {},
   "source": [
    "# Estructuras de control"
   ]
  },
  {
   "cell_type": "markdown",
   "metadata": {},
   "source": [
    "Para la ejecución de bloques de codigo de manera condicional en python contamos con los elementos: if-elif-else, while, for"
   ]
  },
  {
   "cell_type": "markdown",
   "metadata": {},
   "source": [
    "## if\n",
    "\n",
    "La estructura __if__ permite ejecutar una sección de codigo sólo si la condición que le sigue es cierta.\n",
    "Opcionalmente puede ir seguida de zero o más __elif__ que seran ejecutados si los condicionales anteriores fueren negativos. Finalmente disponemos del statement __else__ que será ejecutado si todos loc condicionales evaluan a falso.\n",
    "\n",
    "Un _if_ con todos estos elementos tiene la forma siguiente:\n",
    "\n",
    "``` py\n",
    "if conditionA:\n",
    "    statementA\n",
    "elif conditionB:\n",
    "    statementB\n",
    "elif conditionC:\n",
    "    statementC\n",
    "else:\n",
    "    defaultStatement\n",
    "```\n",
    "\n",
    "A diferència de otros lenguajes python no dispone de _switch_ o _case_, pero se pueden simular con un conjunto de __elif__.\n",
    "\n",
    "\n",
    "\n"
   ]
  },
  {
   "cell_type": "code",
   "execution_count": 5,
   "metadata": {},
   "outputs": [
    {
     "name": "stdout",
     "output_type": "stream",
     "text": [
      "Introduzca un número entero: 2\n",
      "Más de uno\n"
     ]
    }
   ],
   "source": [
    "x = int(input(\"Introduzca un número entero: \"))\n",
    "\n",
    "if x < 0:\n",
    "    x = 0\n",
    "    print('Negativo cambiado a zero')\n",
    "elif x == 0:\n",
    "    print('Zero')\n",
    "elif x == 1:\n",
    "    print('Uno')\n",
    "else:\n",
    "    print('Más de uno')"
   ]
  },
  {
   "cell_type": "markdown",
   "metadata": {},
   "source": [
    "# for\n",
    "\n",
    "El elemento __for__ en Python sirve para iterar sobre una sequencia (lista, String) o algún elemento generador (más sobre esté tema en el futuro).\n",
    "\n",
    "La esructura que sigue és:\n",
    "```py\n",
    "for var_name in sequence_name:\n",
    "    statements\n",
    "```\n",
    "\n"
   ]
  },
  {
   "cell_type": "code",
   "execution_count": 8,
   "metadata": {
    "code_folding": []
   },
   "outputs": [
    {
     "name": "stdout",
     "output_type": "stream",
     "text": [
      "cat 3\n",
      "window 6\n",
      "defenestrate 12\n"
     ]
    }
   ],
   "source": [
    "# Measure some strings:\n",
    "words = ['cat', 'window', 'defenestrate']\n",
    "for w in words:\n",
    "    print(w, len(w))"
   ]
  },
  {
   "cell_type": "markdown",
   "metadata": {},
   "source": [
    "El elemento sobre el que se itera se selecióna en cada iteración, eso puede llevar a un fncionamiento inesperado:"
   ]
  },
  {
   "cell_type": "code",
   "execution_count": 17,
   "metadata": {},
   "outputs": [
    {
     "data": {
      "text/plain": [
       "['defenestrate', 'cat', 'window', 'defenestrate']"
      ]
     },
     "execution_count": 17,
     "metadata": {},
     "output_type": "execute_result"
    }
   ],
   "source": [
    "words = ['cat', 'window', 'defenestrate']\n",
    "for w in words: # Prueba a iterar sobre un segmento de la lista entera:  words[:]\n",
    "    if len(w) > 6:\n",
    "        words.insert(0, w)\n",
    "    \n",
    "words"
   ]
  },
  {
   "cell_type": "markdown",
   "metadata": {},
   "source": [
    "## range()\n",
    "\n",
    "Para iterar sobre una sequencia de numeros podemos utilizar la fución del lenguaje __reange()__\n",
    "\n",
    "Esta función puede tener entre 1 i 3 paràmetros:\n",
    "- `range(a)` -> Genera la secuencia \\[0.._a_) incrementando en una unidad\n",
    "- `range(a, b)` -> Genera la sequencia \\[_a_.._b_) incrementando en una unidad\n",
    "- `range(a, b, c)` -> Genera la sequencia \\[_a_.._b_) incrementando _c_ unidades en cada iteración"
   ]
  },
  {
   "cell_type": "code",
   "execution_count": 24,
   "metadata": {},
   "outputs": [
    {
     "name": "stdout",
     "output_type": "stream",
     "text": [
      "0\n",
      "1\n",
      "2\n",
      "3\n",
      "4\n"
     ]
    }
   ],
   "source": [
    "for i in range(5):\n",
    "    print(i)"
   ]
  },
  {
   "cell_type": "code",
   "execution_count": null,
   "metadata": {},
   "outputs": [],
   "source": []
  }
 ],
 "metadata": {
  "kernelspec": {
   "display_name": "Python 3",
   "language": "python",
   "name": "python3"
  },
  "language_info": {
   "codemirror_mode": {
    "name": "ipython",
    "version": 3
   },
   "file_extension": ".py",
   "mimetype": "text/x-python",
   "name": "python",
   "nbconvert_exporter": "python",
   "pygments_lexer": "ipython3",
   "version": "3.5.2"
  },
  "toc": {
   "nav_menu": {},
   "number_sections": true,
   "sideBar": true,
   "skip_h1_title": false,
   "toc_cell": false,
   "toc_position": {},
   "toc_section_display": "block",
   "toc_window_display": false
  },
  "varInspector": {
   "cols": {
    "lenName": 16,
    "lenType": 16,
    "lenVar": 40
   },
   "kernels_config": {
    "python": {
     "delete_cmd_postfix": "",
     "delete_cmd_prefix": "del ",
     "library": "var_list.py",
     "varRefreshCmd": "print(var_dic_list())"
    },
    "r": {
     "delete_cmd_postfix": ") ",
     "delete_cmd_prefix": "rm(",
     "library": "var_list.r",
     "varRefreshCmd": "cat(var_dic_list()) "
    }
   },
   "types_to_exclude": [
    "module",
    "function",
    "builtin_function_or_method",
    "instance",
    "_Feature"
   ],
   "window_display": false
  }
 },
 "nbformat": 4,
 "nbformat_minor": 2
}
