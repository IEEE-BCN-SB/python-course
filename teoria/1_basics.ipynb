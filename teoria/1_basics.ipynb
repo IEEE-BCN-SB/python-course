{
 "cells": [
  {
   "cell_type": "markdown",
   "metadata": {},
   "source": [
    "# Basics"
   ]
  },
  {
   "cell_type": "markdown",
   "metadata": {},
   "source": [
    "# Variables\n",
    "\n",
    "Python tiene tipado dinámica, por lo que no es necesario especificar el tipo de la variable. Aunque si que existen, el interprete es capaz de obtener y modificar el tipo de una variable en tiempo de ejecución.\n",
    "\n",
    "Para declarar una variable utilizamos la forma:\n",
    "```python\n",
    "var_name = literal\n",
    "```\n",
    "\n",
    "Veamos un ejemplo sencillo:"
   ]
  },
  {
   "cell_type": "code",
   "execution_count": 7,
   "metadata": {},
   "outputs": [
    {
     "name": "stdout",
     "output_type": "stream",
     "text": [
      "<class 'int'>\n"
     ]
    },
    {
     "data": {
      "text/plain": [
       "'🦄Soy un unicornio🦄'"
      ]
     },
     "execution_count": 7,
     "metadata": {},
     "output_type": "execute_result"
    }
   ],
   "source": [
    "# Soy un comentaeio, yay\n",
    "spam = 1\n",
    "print(type(spam))\n",
    "\n",
    "jam = \"Soy un String\"\n",
    "\n",
    "spam = \"🦄Soy un unicornio🦄\"  # Las variables pueden cambiar de tipo\n",
    "second = spam\n",
    "spam"
   ]
  },
  {
   "cell_type": "markdown",
   "metadata": {},
   "source": [
    "# Numeros\n",
    "\n",
    "Como en todos los lenguajes contamos con los operadores matemáticos básicos:\n",
    "- `+` (suma)\n",
    "- `-` (resta u operador unario de cambio de signo)\n",
    "- `*` (multiplicación)\n",
    "- `**` (exponenciación)\n",
    "- `/` (división con decimales)\n",
    "- `//` (división sin decimales)\n",
    "- `%` (módulo, resto división entera).\n",
    "\n",
    "La división normal siempre retorna un float.\n",
    "Podemos utilizar tantos los paréntesis que necesitemos.\n",
    "Estas operaciones genera _int_ o _float_, aunque el lenguaje soporta otros tipos como _Decimal_, _Fraction_ o números complejos_.\n",
    "\n",
    "Veamos algún caso concreto:"
   ]
  },
  {
   "cell_type": "code",
   "execution_count": 8,
   "metadata": {},
   "outputs": [
    {
     "name": "stdout",
     "output_type": "stream",
     "text": [
      "15 / 3 = 5.0\n",
      "17 / 3 = 5.666666666666667\n",
      "17 // 3 = 5\n",
      "17 % 3 = 2\n",
      "5*(3 + 2) = 25\n"
     ]
    }
   ],
   "source": [
    "print(\"15 / 3 =\", 15 / 3 )\n",
    "print(\"17 / 3 =\", 17 / 3 )\n",
    "print(\"17 // 3 =\",  17 // 3 )\n",
    "print(\"17 % 3 =\", 17 % 3 )\n",
    "print(\"5*(3 + 2) =\", 5 *(3 + 2) )"
   ]
  },
  {
   "cell_type": "markdown",
   "metadata": {},
   "source": [
    "# Strings\n",
    "\n",
    "Los literales de tipo String se pueden definir tanto con comillas simples como dobles. En cualquiera de los casos el carácter de escape el la barra invertida `\\`. En Python3 la codificación por defecto es UTF-8\n",
    "\n",
    "Veamos ejemplos varios:"
   ]
  },
  {
   "cell_type": "code",
   "execution_count": 2,
   "metadata": {},
   "outputs": [
    {
     "name": "stdout",
     "output_type": "stream",
     "text": [
      "Double\n",
      "Single\n",
      "'Single' inside double\n",
      "\"Double\" inside single\n",
      "Double \"with\" double\n",
      "Odd unicode multiline:\n",
      "  @$~çñ\n"
     ]
    }
   ],
   "source": [
    "print(\"Double\")\n",
    "print('Single')\n",
    "# print('nope\")\n",
    "print(\"'Single' inside double\")\n",
    "print('\"Double\" inside single')\n",
    "print(\"Double \\\"with\\\" double\")\n",
    "print(\"Odd unicode multiline:\\n  @$~çñ\")"
   ]
  },
  {
   "cell_type": "markdown",
   "metadata": {},
   "source": [
    "Si tenemos un literal con muchos caracteres que requieren scape podemos añadir una ___r___ antes del literal.\n",
    "También contamos con una construcción de String que al utilizar tres comillas en lugar de una, nos permite definir strings multilinea:"
   ]
  },
  {
   "cell_type": "code",
   "execution_count": 28,
   "metadata": {},
   "outputs": [
    {
     "name": "stdout",
     "output_type": "stream",
     "text": [
      "C:\\some\n",
      "ame\n",
      "C:\\some\\name\n",
      "__________\n",
      "< LinuxUPC >\n",
      " ----------\n",
      "        \\   ^__^\n",
      "         \\  (oo)\\_______\n",
      "            (__)\\       )\\/             U  ||----w |\n",
      "                ||     ||\n",
      "\n"
     ]
    }
   ],
   "source": [
    "# Please, use Linux:\n",
    "print('C:\\some\\name')  # here \\n means newline!\n",
    "print(r'C:\\some\\name')  # note the r before the quote\n",
    "s = \"\"\"\\\n",
    "__________\n",
    "< LinuxUPC >\n",
    " ----------\n",
    "        \\   ^__^\n",
    "         \\  (oo)\\_______\n",
    "            (__)\\       )\\/\\\n",
    "             U  ||----w |\n",
    "                ||     ||\n",
    "\"\"\"\n",
    "print(s)"
   ]
  },
  {
   "cell_type": "markdown",
   "metadata": {},
   "source": [
    "También podemos sumar (concatenar) Strings y multiplicarlos (repetirlos) con los signos aritméticos habituales.\n",
    "Si lo que tenemos en manos son únicamente literales (no variables) podemos concatenarlos sin ningún símbolo:"
   ]
  },
  {
   "cell_type": "code",
   "execution_count": 45,
   "metadata": {},
   "outputs": [
    {
     "name": "stdout",
     "output_type": "stream",
     "text": [
      "LinuxUPCIEEE\n",
      "########## Title ##########\n"
     ]
    }
   ],
   "source": [
    "print(\"LinuxUPC\"\n",
    "      \"IEEE\")\n",
    "\n",
    "header = (' ' \"Title\"\n",
    "          ' ')  # Si queremos concatenar literales en múltiples lineas los tenemos que poner entre paréntesis\n",
    "# print(header \"Basics\")  # Esto lanzará un error\n",
    "print(\"#\"*10 + header + \"#\"*10)"
   ]
  },
  {
   "cell_type": "markdown",
   "metadata": {},
   "source": [
    "## Indices\n",
    "\n",
    "Al final podemos ver los Strings como un vector de caracteres (pese a que no es como funcionan en Python).\n",
    "Como los string on más fáciles de manipular explicaremos su funcionamiento asi como la característica de slides (subsegmentos).\n",
    "\n",
    "Como en la mayoría de lenguajes el primer elemento se identifica con el número _0_, el segundo con el _1_ y sucesivamente. Ademá el último elemento puede ser accedido con el índice _-1_, el penúltimo con _-2_ y sucesivamente.\n",
    "Para acceder a un elemento concreto utilizamos a construcción `variable[index]`.\n",
    "\n",
    "En Python los Strings son inmutables, una vez creados o pueden ser modificados. Por ello aunque un statement de tipo `py[0]= \"p\"` sería válido en un vector, aplicado sobre un String generará un error."
   ]
  },
  {
   "cell_type": "code",
   "execution_count": 33,
   "metadata": {},
   "outputs": [
    {
     "name": "stdout",
     "output_type": "stream",
     "text": [
      "P\n",
      "n\n"
     ]
    }
   ],
   "source": [
    "py = \"Python\"\n",
    "i = ---1\n",
    "print(py[0])\n",
    "print(py[i])"
   ]
  },
  {
   "cell_type": "markdown",
   "metadata": {},
   "source": [
    "Podemos extraer segmentos de un string utilizando `variable[a:b]` dónde _a_ y _b_ representa el segmento \\[a, b). Si omitimos _a_ se asume _0_ y si lo que omitimos es _b_ se asume _-1_. Si nos pasamos de indices no se genera ningún error, si no que se obtiene el indice correcto más cercano, en algunos casos resultando en un string vacío.\n",
    "\n",
    "Finalmente podemos obtener la longitud con `len(variable)`."
   ]
  },
  {
   "cell_type": "code",
   "execution_count": 44,
   "metadata": {},
   "outputs": [
    {
     "name": "stdout",
     "output_type": "stream",
     "text": [
      " +---+---+---+---+---+---+\n",
      " | P | y | t | h | o | n |\n",
      " +---+---+---+---+---+---+\n",
      " 0   1   2   3   4   5   6\n",
      "-6  -5  -4  -3  -2  -1\n",
      "\n",
      "Py\n",
      "tho\n",
      "Python\n"
     ]
    }
   ],
   "source": [
    "indexs = \"\"\"\\\n",
    " +---+---+---+---+---+---+\n",
    " | P | y | t | h | o | n |\n",
    " +---+---+---+---+---+---+\n",
    " 0   1   2   3   4   5   6\n",
    "-6  -5  -4  -3  -2  -1\n",
    "\"\"\"\n",
    "py = \"Python\"\n",
    "print(indexs)\n",
    "\n",
    "print(py[:2])\n",
    "print(py[-4:-1])\n",
    "print(py[-20:20])"
   ]
  },
  {
   "cell_type": "markdown",
   "metadata": {},
   "source": [
    "# Enlaces\n",
    "* [Python tutorial - An informal Introduction \\[en\\]](https://docs.python.org/3/tutorial/introduction.html)"
   ]
  },
  {
   "cell_type": "markdown",
   "metadata": {},
   "source": []
  }
 ],
 "metadata": {
  "kernelspec": {
   "display_name": "Python 3",
   "language": "python",
   "name": "python3"
  },
  "language_info": {
   "codemirror_mode": {
    "name": "ipython",
    "version": 3
   },
   "file_extension": ".py",
   "mimetype": "text/x-python",
   "name": "python",
   "nbconvert_exporter": "python",
   "pygments_lexer": "ipython3",
   "version": "3.5.2"
  },
  "toc": {
   "nav_menu": {},
   "number_sections": true,
   "sideBar": true,
   "skip_h1_title": false,
   "toc_cell": false,
   "toc_position": {},
   "toc_section_display": "block",
   "toc_window_display": false
  },
  "varInspector": {
   "cols": {
    "lenName": 16,
    "lenType": 16,
    "lenVar": 40
   },
   "kernels_config": {
    "python": {
     "delete_cmd_postfix": "",
     "delete_cmd_prefix": "del ",
     "library": "var_list.py",
     "varRefreshCmd": "print(var_dic_list())"
    },
    "r": {
     "delete_cmd_postfix": ") ",
     "delete_cmd_prefix": "rm(",
     "library": "var_list.r",
     "varRefreshCmd": "cat(var_dic_list()) "
    }
   },
   "types_to_exclude": [
    "module",
    "function",
    "builtin_function_or_method",
    "instance",
    "_Feature"
   ],
   "window_display": false
  }
 },
 "nbformat": 4,
 "nbformat_minor": 2
}
