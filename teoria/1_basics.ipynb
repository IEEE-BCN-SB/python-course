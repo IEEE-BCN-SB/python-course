{
 "cells": [
  {
   "cell_type": "markdown",
   "metadata": {},
   "source": [
    "# Basics"
   ]
  },
  {
   "cell_type": "markdown",
   "metadata": {},
   "source": [
    "# Variables\n",
    "\n",
    "Python tiene tipado dinámica, por lo que no es necesario especificar el tipo de la variable. Aunque si que existen, el interprete es capaz de obtener y modificar el tipo de una variable en tiempo de ejecución.\n",
    "\n",
    "Para declarar una variable utilizamos la forma:\n",
    "```python\n",
    "var_name = literal\n",
    "```\n",
    "\n",
    "Veamos un ejemplo senzillo:"
   ]
  },
  {
   "cell_type": "code",
   "execution_count": 7,
   "metadata": {},
   "outputs": [
    {
     "name": "stdout",
     "output_type": "stream",
     "text": [
      "<class 'int'>\n"
     ]
    },
    {
     "data": {
      "text/plain": [
       "'🦄Soy un unicornio🦄'"
      ]
     },
     "execution_count": 7,
     "metadata": {},
     "output_type": "execute_result"
    }
   ],
   "source": [
    "# Soy un comentaeio, yay\n",
    "spam = 1\n",
    "print(type(spam))\n",
    "\n",
    "jam = \"Soy un String\"\n",
    "\n",
    "spam = \"🦄Soy un unicornio🦄\"  # Las variables pueden cambiar de tipo\n",
    "second = spam\n",
    "spam"
   ]
  },
  {
   "cell_type": "markdown",
   "metadata": {},
   "source": [
    "# Numeros\n",
    "\n",
    "Como en todos los lenguajes contamos con los operadores matemàticos bàsicos:\n",
    "- `+` (suma)\n",
    "- `-` (resta o operador unario de cambio de signo)\n",
    "- `*` (multiplicación)\n",
    "- `**` (exponenciación)\n",
    "- `/` (división con decimales)\n",
    "- `//` (división sin decimales)\n",
    "- `%` (módulo, resto división entera).\n",
    "\n",
    "La división normal siempre retorna un float.\n",
    "Podemos utilizar tantos los parentesis que necessitemos.\n",
    "Estas operaciones genera _int_ o _float_, aunque el lenjuage soporta otros tipos como _Decimal_, _Fraction_ o _numeros complejos_.\n",
    "\n",
    "Veamos algún caso concreto:"
   ]
  },
  {
   "cell_type": "code",
   "execution_count": 8,
   "metadata": {},
   "outputs": [
    {
     "name": "stdout",
     "output_type": "stream",
     "text": [
      "15 / 3 = 5.0\n",
      "17 / 3 = 5.666666666666667\n",
      "17 // 3 = 5\n",
      "17 % 3 = 2\n",
      "5*(3 + 2) = 25\n"
     ]
    }
   ],
   "source": [
    "print(\"15 / 3 =\", 15 / 3 )\n",
    "print(\"17 / 3 =\", 17 / 3 )\n",
    "print(\"17 // 3 =\",  17 // 3 )\n",
    "print(\"17 % 3 =\", 17 % 3 )\n",
    "print(\"5*(3 + 2) =\", 5 *(3 + 2) )"
   ]
  },
  {
   "cell_type": "markdown",
   "metadata": {},
   "source": [
    "# Strings\n",
    "\n",
    "Los literales de tipo String se pueden definir tanto con comillas simples como dobles. En qualquiera de los casos el caracter de escape el la barra invertida `\\`.\n",
    "\n",
    "Veamos ejemplos varios:"
   ]
  },
  {
   "cell_type": "code",
   "execution_count": 18,
   "metadata": {},
   "outputs": [
    {
     "name": "stdout",
     "output_type": "stream",
     "text": [
      "Double\n",
      "Single\n",
      "'Single' inside double\n",
      "\"Double\" inside single\n",
      "Double \"with\" double\n",
      "Odd unicode multiline:\n",
      "  @$~çñ\n"
     ]
    }
   ],
   "source": [
    "print(\"Double\")\n",
    "print('Single')\n",
    "# print('nope\")\n",
    "print(\"'Single' inside double\")\n",
    "print('\"Double\" inside single')\n",
    "print(\"Double \\\"with\\\" double\")\n",
    "print(\"Odd unicode multiline:\\n  @$~çñ\")"
   ]
  },
  {
   "cell_type": "code",
   "execution_count": 20,
   "metadata": {},
   "outputs": [
    {
     "name": "stdout",
     "output_type": "stream",
     "text": [
      " +---+---+---+---+---+---+\n",
      " | P | y | t | h | o | n |\n",
      " +---+---+---+---+---+---+\n",
      " 0   1   2   3   4   5   6\n",
      "-6  -5  -4  -3  -2  -1\n",
      "\n"
     ]
    }
   ],
   "source": [
    "indexs = \"\"\"\\\n",
    " +---+---+---+---+---+---+\n",
    " | P | y | t | h | o | n |\n",
    " +---+---+---+---+---+---+\n",
    " 0   1   2   3   4   5   6\n",
    "-6  -5  -4  -3  -2  -1\n",
    "\"\"\"\n",
    "print(indexs)"
   ]
  },
  {
   "cell_type": "code",
   "execution_count": null,
   "metadata": {},
   "outputs": [],
   "source": []
  }
 ],
 "metadata": {
  "kernelspec": {
   "display_name": "Python 3",
   "language": "python",
   "name": "python3"
  },
  "language_info": {
   "codemirror_mode": {
    "name": "ipython",
    "version": 3
   },
   "file_extension": ".py",
   "mimetype": "text/x-python",
   "name": "python",
   "nbconvert_exporter": "python",
   "pygments_lexer": "ipython3",
   "version": "3.5.2"
  }
 },
 "nbformat": 4,
 "nbformat_minor": 2
}
