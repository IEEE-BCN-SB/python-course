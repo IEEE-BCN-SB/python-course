{
 "cells": [
  {
   "cell_type": "markdown",
   "metadata": {},
   "source": [
    "# Funciones"
   ]
  },
  {
   "cell_type": "markdown",
   "metadata": {},
   "source": [
    "Para definir funciones utilizamos el elemento __def__ seguido del nombre de la función y una lista entre paréntesis del nombre de las variables de entrada.\n",
    "\n",
    "La primera sentencia de la función puede ser opcionalmente un texto. Si existe este literal se interpretará como el _docstring_ de la función. Peso a no ser obligatorio es una buena práctica.\n",
    "\n",
    "\n",
    "Opcionalmente las funciones pueden retornar un valor utilizando el statements __return__. Si una función carece de este elemento o si no va acompañado de ningún valor, la función retornará _None_.\n",
    "\n",
    "Según la recomendación del PEP8 el nombre de la función debe ser en `lower_case_with_underscores`.\n",
    "\n",
    "En su versión más sencilla tenemos:\n",
    "```py\n",
    "def func_name(argA, argB):\n",
    "    \"\"\" Dockstring\"\"\"\n",
    "    statements\n",
    "    return value\n",
    "```\n"
   ]
  },
  {
   "cell_type": "code",
   "execution_count": 1,
   "metadata": {},
   "outputs": [
    {
     "name": "stdout",
     "output_type": "stream",
     "text": [
      "NaNaNaNaNaNaNaNa Batman!\n"
     ]
    }
   ],
   "source": [
    "def hero(hero):\n",
    "    if hero.lower() == \"batman\":\n",
    "        return \"Na\"*8 + \" \" + hero + \"!\"\n",
    "    else:\n",
    "        return \"Nope\"\n",
    "\n",
    "print(hero(\"Batman\"))"
   ]
  },
  {
   "cell_type": "markdown",
   "metadata": {},
   "source": [
    "## Argumentos"
   ]
  },
  {
   "cell_type": "markdown",
   "metadata": {},
   "source": [
    "### Paso de parámetros (valor vs referencia)\n",
    "\n",
    "En Python todos las variables son internamente un Objecto. Por ello, cuando se pasa una variable a una función, lo que se pasa es la referencia (puntero) a esa variable.\n",
    "\n",
    "A la práctica podemos diferenciar dos casos, aquel en que el objeto en cuestión es variable, y el que no. Veamos dos ejemplos:"
   ]
  },
  {
   "cell_type": "code",
   "execution_count": 2,
   "metadata": {},
   "outputs": [
    {
     "name": "stdout",
     "output_type": "stream",
     "text": [
      "LinuxUPC\n"
     ]
    }
   ],
   "source": [
    "# String - inmutables\n",
    "text = \"LinuxUPC\"\n",
    "\n",
    "def dummy(text):\n",
    "    text = \"IEEE\"\n",
    "    \n",
    "dummy(text)\n",
    "print(text)  # No se ha modificado "
   ]
  },
  {
   "cell_type": "code",
   "execution_count": 3,
   "metadata": {},
   "outputs": [
    {
     "name": "stdout",
     "output_type": "stream",
     "text": [
      "['LinuxUPC', 'IEEE']\n"
     ]
    }
   ],
   "source": [
    "# Listas - mutables (1)\n",
    "lista = [\"LinuxUPC\"]\n",
    "\n",
    "def dummy(lista):\n",
    "    lista.append(\"IEEE\")\n",
    "\n",
    "dummy(lista)\n",
    "print(lista)  # Modificado"
   ]
  },
  {
   "cell_type": "code",
   "execution_count": 4,
   "metadata": {},
   "outputs": [
    {
     "name": "stdout",
     "output_type": "stream",
     "text": [
      "['LinuxUPC']\n"
     ]
    }
   ],
   "source": [
    "# Lista - mutables (2) - paso por puntero del objeto (no por la variable en si)\n",
    "lista = [\"LinuxUPC\"]\n",
    "\n",
    "def dummy(lista):\n",
    "    lista = [\"IEEE\"]  \n",
    "\n",
    "dummy(lista)\n",
    "print(lista)  # No se ha modificado"
   ]
  },
  {
   "cell_type": "markdown",
   "metadata": {},
   "source": [
    "## Valores por defecto\n",
    "\n",
    "Los parámetros en los que solo se especifica su nombre (los vistos hasta ahora) son conocidos como __positional arguments__ (ya se identifican por su posición) y són obligatorios en todas las llamadas a la función.\n",
    "\n",
    "A continuación de estos podemos tener los __default arguments__ que como sugiere su nombre disponen de un valor por defecto en caso que en la llamada no se especifiquen, siendo por tanto opcionales. \n",
    "\n",
    "Su sintaxis sigue el ejemplo:\n",
    "```py\n",
    "def test(positional_a, positional_b, default_a=\"value_a\", default_b=2):\n",
    "    pass\n",
    "```\n",
    "Esta función puede ser llamada con los 2, 3 o 4 primeros argumentos. Observad que en caso de suministrar 3 argumentos, el último de ellos hará referencia a `default_a`. Esto implica que no podemos pasar un valor a `default_b` sin paseárselo también a `Default_b`.\n",
    "\n",
    "\n"
   ]
  },
  {
   "cell_type": "code",
   "execution_count": 5,
   "metadata": {},
   "outputs": [
    {
     "name": "stdout",
     "output_type": "stream",
     "text": [
      "1 - Do you want to delete your account?y\n",
      "2 - Do you wanna delete your account?y\n",
      "3 - Really, do you wanna delete your account?y\n"
     ]
    },
    {
     "data": {
      "text/plain": [
       "True"
      ]
     },
     "execution_count": 5,
     "metadata": {},
     "output_type": "execute_result"
    }
   ],
   "source": [
    "def ask_ok(prompt, retries=2, reminder='Please try again!'):\n",
    "    while True:\n",
    "        ok = input(prompt)\n",
    "        if ok in ('y', 'ye', 'yes'):\n",
    "            return True\n",
    "        if ok in ('n', 'no', 'nop', 'nope'):\n",
    "            return False\n",
    "        retries = retries - 1\n",
    "        if retries < 0:\n",
    "            break\n",
    "        print(reminder)\n",
    "\n",
    "# All possible call forms:\n",
    "ask_ok(\"1 - Do you want to delete your account?\")\n",
    "ask_ok(\"2 - Do you wanna delete your account?\", 1)\n",
    "ask_ok(\"3 - Really, do you wanna delete your account?\", 0, \"That's not the answer!\")"
   ]
  },
  {
   "cell_type": "markdown",
   "metadata": {},
   "source": [
    "El valor por defecto solo es evaluado la primera vez, eso puede conllevar comportamientos inesperados si ese valor se modifica durante la función:"
   ]
  },
  {
   "cell_type": "code",
   "execution_count": 6,
   "metadata": {},
   "outputs": [
    {
     "name": "stdout",
     "output_type": "stream",
     "text": [
      "[1]\n",
      "[1, 2]\n",
      "[1, 2, 3]\n"
     ]
    }
   ],
   "source": [
    "def f(a, L=[]):\n",
    "    L.append(a)\n",
    "    return L\n",
    "\n",
    "print(f(1))\n",
    "print(f(2))\n",
    "print(f(3))\n"
   ]
  },
  {
   "cell_type": "code",
   "execution_count": 7,
   "metadata": {},
   "outputs": [
    {
     "name": "stdout",
     "output_type": "stream",
     "text": [
      "[1]\n",
      "[2]\n",
      "[3]\n"
     ]
    }
   ],
   "source": [
    "# Alternativa usando None\n",
    "def f(a, L=None):\n",
    "    if L is None:\n",
    "        L = []\n",
    "    L.append(a)\n",
    "    return L\n",
    "\n",
    "print(f(1))\n",
    "print(f(2))\n",
    "print(f(3))"
   ]
  },
  {
   "cell_type": "markdown",
   "metadata": {},
   "source": [
    "## Keyword arguments\n",
    "\n",
    "Como se ha comentado anteriormente no es posible dar valor a un argumento por defecto si no se le ha dado también a todos los anteriores. Esto es debido a que se determina cual es en función de su posición. Para solventar esta limitación podemos hacer referencia a los argumentos en función de se nombre. Aunque en la llamada de una función podemos utilizar las dos formas a la vez, cualquier argumento identificado por el nombre tiene que aparecer después de los identificados por posición."
   ]
  },
  {
   "cell_type": "code",
   "execution_count": 8,
   "metadata": {},
   "outputs": [
    {
     "name": "stdout",
     "output_type": "stream",
     "text": [
      "-- This parrot wouldn't voom if you put 1000 volts through it.\n",
      "-- Lovely plumage, the Norwegian Blue\n",
      "-- It's a stiff !\n",
      "\n",
      "-- This parrot wouldn't voom if you put 1000 volts through it.\n",
      "-- Lovely plumage, the Norwegian Blue\n",
      "-- It's a stiff !\n",
      "\n",
      "-- This parrot wouldn't VOOOOOM if you put 1000000 volts through it.\n",
      "-- Lovely plumage, the Norwegian Blue\n",
      "-- It's a stiff !\n",
      "\n",
      "-- This parrot wouldn't VOOOOOM if you put 1000000 volts through it.\n",
      "-- Lovely plumage, the Norwegian Blue\n",
      "-- It's a stiff !\n",
      "\n",
      "-- This parrot wouldn't jump if you put a million volts through it.\n",
      "-- Lovely plumage, the Norwegian Blue\n",
      "-- It's bereft of life !\n",
      "\n",
      "-- This parrot wouldn't voom if you put a thousand volts through it.\n",
      "-- Lovely plumage, the Norwegian Blue\n",
      "-- It's pushing up the daisies !\n",
      "\n"
     ]
    }
   ],
   "source": [
    "def parrot(voltage, state='a stiff', action='voom', type='Norwegian Blue'):\n",
    "    print(\"-- This parrot wouldn't\", action, end=' ')\n",
    "    print(\"if you put\", voltage, \"volts through it.\")\n",
    "    print(\"-- Lovely plumage, the\", type)\n",
    "    print(\"-- It's\", state, \"!\")\n",
    "    print()\n",
    "    \n",
    "parrot(1000)                                          # 1 positional argument\n",
    "parrot(voltage=1000)                                  # 1 keyword argument\n",
    "parrot(voltage=1000000, action='VOOOOOM')             # 2 keyword arguments\n",
    "parrot(action='VOOOOOM', voltage=1000000)             # 2 keyword arguments\n",
    "parrot('a million', 'bereft of life', 'jump')         # 3 positional arguments\n",
    "parrot('a thousand', state='pushing up the daisies')  # 1 positional, 1 keyword\n",
    "    "
   ]
  },
  {
   "cell_type": "markdown",
   "metadata": {},
   "source": [
    "## Numero de parámetros variable\n",
    "\n",
    "El lenguaje soporta definiciones de funciones dónde el numero de parámetros sea variable. Para dar soporte a esta característica tenemos dos elementos diferentes, uno para los argumento posicionales y otro para los argumentos por nombre.\n",
    "\n",
    "En el caso de los posicionales se declara una variable de la forma `*name_a`, que contendrá una lista con todos los parámetros de más que se haya pasado por posición. Si aparece este elemento tiene que estar antes que cualquier valor por defecto. Por ejemplo la función _print_ tiene la siguiente declaración `print(*value, sep=' ', end='\\n', file=sys.stdout, flush=False)`\n",
    "\n",
    "En el caso de los argumentos pasado por nombre la forma es similar, `**name_b`, y contendrá un diccionario con pares nombre valor de los argumentos pasados por nombre que no estuvieran definidos en la cabecera de la función. Si aparece tiene que ser el último argumento de la declaración.\n",
    "\n",
    "Aunque se pueden utilizar por separado, veamos un ejemplo con ambas:"
   ]
  },
  {
   "cell_type": "code",
   "execution_count": 9,
   "metadata": {},
   "outputs": [
    {
     "name": "stdout",
     "output_type": "stream",
     "text": [
      "-- Do you have any Limburger ?\n",
      "-- I'm sorry, we're all out of Limburger\n",
      "It's very runny, sir.\n",
      "It's really very, VERY runny, sir.\n",
      "----------------------------------------\n",
      "client : John Cleese\n",
      "shopkeeper : Michael Palin\n",
      "sketch : Cheese Shop Sketch\n"
     ]
    }
   ],
   "source": [
    "def cheeseshop(kind, *arguments, **keywords):\n",
    "    print(\"-- Do you have any\", kind, \"?\")\n",
    "    print(\"-- I'm sorry, we're all out of\", kind)\n",
    "    for arg in arguments:\n",
    "        print(arg)\n",
    "    print(\"-\" * 40)\n",
    "    for kw in keywords:\n",
    "        print(kw, \":\", keywords[kw])\n",
    "\n",
    "cheeseshop(\"Limburger\",\n",
    "           \"It's very runny, sir.\",\n",
    "           \"It's really very, VERY runny, sir.\",\n",
    "           shopkeeper=\"Michael Palin\",\n",
    "           client=\"John Cleese\",\n",
    "           sketch=\"Cheese Shop Sketch\")"
   ]
  },
  {
   "cell_type": "markdown",
   "metadata": {},
   "source": [
    "# Funciones de _primer orden_\n",
    "\n",
    "En Python las funciones son de primer orden, lo que implica que las podemos pasar como variables:"
   ]
  },
  {
   "cell_type": "code",
   "execution_count": 10,
   "metadata": {},
   "outputs": [
    {
     "name": "stdout",
     "output_type": "stream",
     "text": [
      "10\n"
     ]
    }
   ],
   "source": [
    "def double_imput(base):\n",
    "    return base*2\n",
    "\n",
    "def generic_print(base, opt):\n",
    "    tmp = opt(base)\n",
    "    print(tmp)\n",
    "\n",
    "f = double_imput\n",
    "\n",
    "generic_print(5, double_imput) # podríamos haber pasado f en lugar de double_imput\n",
    "    "
   ]
  },
  {
   "cell_type": "markdown",
   "metadata": {},
   "source": [
    "# Funciones anónimas\n",
    "\n",
    "Python incorpora la posibilidad de declarar pequeñas funciones anónimas __lambda__\n",
    "\n",
    "Su sintaxis sigue el ejemplo:\n",
    "\n",
    "```py\n",
    "f = lamba x: x + 1\n",
    "```\n",
    "que es totalmente equivalente a:\n",
    "```py\n",
    "def f(x)\n",
    "    return x + 1\n",
    "```"
   ]
  },
  {
   "cell_type": "code",
   "execution_count": 11,
   "metadata": {},
   "outputs": [
    {
     "data": {
      "text/plain": [
       "[(4, 'four'), (1, 'one'), (3, 'three'), (2, 'two')]"
      ]
     },
     "execution_count": 11,
     "metadata": {},
     "output_type": "execute_result"
    }
   ],
   "source": [
    "# Ejemplo en la ordenación de objetos compuestos\n",
    "pairs = [(1, 'one'), (2, 'two'), (3, 'three'), (4, 'four')]\n",
    "pairs.sort(key=lambda pair: pair[1])\n",
    "pairs"
   ]
  },
  {
   "cell_type": "markdown",
   "metadata": {},
   "source": [
    "# Paso de argumentos dinámicamente\n",
    "\n",
    "El lenguaje nos ofrece una manera para \"desempaquetar\" objetos iterables en elementos individuales (unpacking). Utilizando esto podemos pasar un objeto generado en tiempo de ejecución como argumentos a una función.\n",
    "\n",
    "Esto se consigue añadiendo un asterisco delante de la variable en el caso de las listas (argumentos posicionales), o dos en el caso de diccionarios (argumentos por nombre).\n",
    "\n",
    "Veamos un par de ejemplos:"
   ]
  },
  {
   "cell_type": "code",
   "execution_count": 12,
   "metadata": {},
   "outputs": [
    {
     "name": "stdout",
     "output_type": "stream",
     "text": [
      "[3, 4, 5]\n",
      "[3, 4, 5]\n"
     ]
    }
   ],
   "source": [
    "print( list(range(3, 6)) )            # normal call with separate arguments\n",
    "\n",
    "args = [3, 6]\n",
    "print( list(range(*args)) )            # call with arguments unpacked from a list"
   ]
  },
  {
   "cell_type": "code",
   "execution_count": 13,
   "metadata": {},
   "outputs": [
    {
     "name": "stdout",
     "output_type": "stream",
     "text": [
      "-- This parrot wouldn't voom if you put four million volts through it. E's bleedin' demised !\n"
     ]
    }
   ],
   "source": [
    "def parrot(voltage, state='a stiff', action='voom'):\n",
    "    print(\"-- This parrot wouldn't\", action, end=' ')\n",
    "    print(\"if you put\", voltage, \"volts through it.\", end=' ')\n",
    "    print(\"E's\", state, \"!\")\n",
    "\n",
    "d = {\"voltage\": \"four million\", \"state\": \"bleedin' demised\"}\n",
    "parrot(**d)"
   ]
  },
  {
   "cell_type": "markdown",
   "metadata": {},
   "source": [
    "# Enlaces\n",
    "\n",
    "* [Python Tutorial - More on control flow tools \\[en\\]](https://docs.python.org/3/tutorial/controlflow.html#defining-functions)\n",
    "* [Python language reference - FUnction definitions \\[en\\]](https://docs.python.org/3/reference/compound_stmts.html#function-definitions)\n",
    "* [Python functions arguments value/reference well explained - StackOverflow \\[en\\]](https://stackoverflow.com/questions/986006/how-do-i-pass-a-variable-by-reference)\n"
   ]
  },
  {
   "cell_type": "markdown",
   "metadata": {},
   "source": [
    "- [<- Previous - 4_control_flow](./4_control_flow.ipynb)\n",
    "- [-> Next -?](./5_functions.ipynb)\n"
   ]
  },
  {
   "cell_type": "code",
   "execution_count": null,
   "metadata": {},
   "outputs": [],
   "source": []
  }
 ],
 "metadata": {
  "kernelspec": {
   "display_name": "Python 3",
   "language": "python",
   "name": "python3"
  },
  "language_info": {
   "codemirror_mode": {
    "name": "ipython",
    "version": 3
   },
   "file_extension": ".py",
   "mimetype": "text/x-python",
   "name": "python",
   "nbconvert_exporter": "python",
   "pygments_lexer": "ipython3",
   "version": "3.5.2"
  }
 },
 "nbformat": 4,
 "nbformat_minor": 2
}
